{
 "cells": [
  {
   "cell_type": "code",
   "execution_count": 27,
   "metadata": {
    "collapsed": true
   },
   "outputs": [],
   "source": [
    "import random\n",
    "import seaborn\n",
    "import numpy as np\n",
    "import pandas as pd\n",
    "from lxml import etree\n",
    "import matplotlib as plt\n",
    "from IPython.display import display"
   ]
  },
  {
   "cell_type": "code",
   "execution_count": 75,
   "metadata": {
    "collapsed": true
   },
   "outputs": [],
   "source": [
    "posts_file = \"Posts.csv\"\n",
    "comments_file = \"Comments.csv\"\n",
    "tags_file = \"Tags.csv\"\n",
    "links_file = \"PostLinks.csv\""
   ]
  },
  {
   "cell_type": "markdown",
   "metadata": {},
   "source": [
    "# Posts"
   ]
  },
  {
   "cell_type": "code",
   "execution_count": 21,
   "metadata": {
    "collapsed": false
   },
   "outputs": [
    {
     "name": "stderr",
     "output_type": "stream",
     "text": [
      "C:\\Tools\\Anaconda3\\lib\\site-packages\\IPython\\core\\interactiveshell.py:2717: DtypeWarning: Columns (3,18,19) have mixed types. Specify dtype option on import or set low_memory=False.\n",
      "  interactivity=interactivity, compiler=compiler, result=result)\n"
     ]
    }
   ],
   "source": [
    "posts_df = pd.read_csv(posts_file,  encoding = \"ISO-8859-1\")"
   ]
  },
  {
   "cell_type": "code",
   "execution_count": 22,
   "metadata": {
    "collapsed": false
   },
   "outputs": [
    {
     "name": "stdout",
     "output_type": "stream",
     "text": [
      "<class 'pandas.core.frame.DataFrame'>\n",
      "RangeIndex: 740551 entries, 0 to 740550\n",
      "Data columns (total 21 columns):\n",
      "AcceptedAnswerId         155413 non-null float64\n",
      "AnswerCount              289122 non-null float64\n",
      "Body                     740551 non-null object\n",
      "ClosedDate               12766 non-null object\n",
      "CommentCount             740551 non-null int64\n",
      "CommunityOwnedDate       2575 non-null object\n",
      "CreationDate             740551 non-null object\n",
      "FavoriteCount            64482 non-null float64\n",
      "Id                       740551 non-null int64\n",
      "LastActivityDate         740551 non-null object\n",
      "LastEditDate             290661 non-null object\n",
      "LastEditorDisplayName    4643 non-null object\n",
      "LastEditorUserId         288674 non-null float64\n",
      "OwnerDisplayName         16003 non-null object\n",
      "OwnerUserId              734193 non-null float64\n",
      "ParentId                 451429 non-null float64\n",
      "PostTypeId               740551 non-null int64\n",
      "Score                    740551 non-null int64\n",
      "Tags                     289122 non-null object\n",
      "Title                    289122 non-null object\n",
      "ViewCount                289122 non-null float64\n",
      "dtypes: float64(7), int64(4), object(10)\n",
      "memory usage: 118.6+ MB\n"
     ]
    },
    {
     "data": {
      "text/plain": [
       "None"
      ]
     },
     "metadata": {},
     "output_type": "display_data"
    },
    {
     "data": {
      "text/html": [
       "<div>\n",
       "<style>\n",
       "    .dataframe thead tr:only-child th {\n",
       "        text-align: right;\n",
       "    }\n",
       "\n",
       "    .dataframe thead th {\n",
       "        text-align: left;\n",
       "    }\n",
       "\n",
       "    .dataframe tbody tr th {\n",
       "        vertical-align: top;\n",
       "    }\n",
       "</style>\n",
       "<table border=\"1\" class=\"dataframe\">\n",
       "  <thead>\n",
       "    <tr style=\"text-align: right;\">\n",
       "      <th></th>\n",
       "      <th>AcceptedAnswerId</th>\n",
       "      <th>AnswerCount</th>\n",
       "      <th>CommentCount</th>\n",
       "      <th>FavoriteCount</th>\n",
       "      <th>Id</th>\n",
       "      <th>LastEditorUserId</th>\n",
       "      <th>OwnerUserId</th>\n",
       "      <th>ParentId</th>\n",
       "      <th>PostTypeId</th>\n",
       "      <th>Score</th>\n",
       "      <th>ViewCount</th>\n",
       "    </tr>\n",
       "  </thead>\n",
       "  <tbody>\n",
       "    <tr>\n",
       "      <th>count</th>\n",
       "      <td>1.554130e+05</td>\n",
       "      <td>289122.000000</td>\n",
       "      <td>740551.000000</td>\n",
       "      <td>64482.000000</td>\n",
       "      <td>7.405510e+05</td>\n",
       "      <td>2.886740e+05</td>\n",
       "      <td>7.341930e+05</td>\n",
       "      <td>4.514290e+05</td>\n",
       "      <td>740551.000000</td>\n",
       "      <td>740551.000000</td>\n",
       "      <td>2.891220e+05</td>\n",
       "    </tr>\n",
       "    <tr>\n",
       "      <th>mean</th>\n",
       "      <td>2.188093e+07</td>\n",
       "      <td>1.568888</td>\n",
       "      <td>1.616648</td>\n",
       "      <td>2.588831</td>\n",
       "      <td>2.270647e+07</td>\n",
       "      <td>1.670357e+06</td>\n",
       "      <td>2.047029e+06</td>\n",
       "      <td>2.046728e+07</td>\n",
       "      <td>1.609585</td>\n",
       "      <td>2.313132</td>\n",
       "      <td>1.909157e+03</td>\n",
       "    </tr>\n",
       "    <tr>\n",
       "      <th>std</th>\n",
       "      <td>1.302721e+07</td>\n",
       "      <td>1.467868</td>\n",
       "      <td>2.446708</td>\n",
       "      <td>15.939425</td>\n",
       "      <td>1.329865e+07</td>\n",
       "      <td>1.863811e+06</td>\n",
       "      <td>2.000867e+06</td>\n",
       "      <td>1.330404e+07</td>\n",
       "      <td>0.487844</td>\n",
       "      <td>20.588704</td>\n",
       "      <td>1.284067e+04</td>\n",
       "    </tr>\n",
       "    <tr>\n",
       "      <th>min</th>\n",
       "      <td>1.520000e+02</td>\n",
       "      <td>0.000000</td>\n",
       "      <td>0.000000</td>\n",
       "      <td>0.000000</td>\n",
       "      <td>1.460000e+02</td>\n",
       "      <td>-1.000000e+00</td>\n",
       "      <td>1.000000e+00</td>\n",
       "      <td>1.460000e+02</td>\n",
       "      <td>1.000000</td>\n",
       "      <td>-154.000000</td>\n",
       "      <td>2.000000e+00</td>\n",
       "    </tr>\n",
       "    <tr>\n",
       "      <th>25%</th>\n",
       "      <td>1.046178e+07</td>\n",
       "      <td>1.000000</td>\n",
       "      <td>0.000000</td>\n",
       "      <td>1.000000</td>\n",
       "      <td>1.108498e+07</td>\n",
       "      <td>2.019520e+05</td>\n",
       "      <td>4.500710e+05</td>\n",
       "      <td>8.633090e+06</td>\n",
       "      <td>1.000000</td>\n",
       "      <td>0.000000</td>\n",
       "      <td>7.100000e+01</td>\n",
       "    </tr>\n",
       "    <tr>\n",
       "      <th>50%</th>\n",
       "      <td>2.122981e+07</td>\n",
       "      <td>1.000000</td>\n",
       "      <td>1.000000</td>\n",
       "      <td>1.000000</td>\n",
       "      <td>2.251738e+07</td>\n",
       "      <td>9.902140e+05</td>\n",
       "      <td>1.342021e+06</td>\n",
       "      <td>1.931117e+07</td>\n",
       "      <td>2.000000</td>\n",
       "      <td>1.000000</td>\n",
       "      <td>2.340000e+02</td>\n",
       "    </tr>\n",
       "    <tr>\n",
       "      <th>75%</th>\n",
       "      <td>3.295962e+07</td>\n",
       "      <td>2.000000</td>\n",
       "      <td>2.000000</td>\n",
       "      <td>2.000000</td>\n",
       "      <td>3.430112e+07</td>\n",
       "      <td>2.557554e+06</td>\n",
       "      <td>3.134247e+06</td>\n",
       "      <td>3.172841e+07</td>\n",
       "      <td>2.000000</td>\n",
       "      <td>2.000000</td>\n",
       "      <td>8.820000e+02</td>\n",
       "    </tr>\n",
       "    <tr>\n",
       "      <th>max</th>\n",
       "      <td>4.589754e+07</td>\n",
       "      <td>129.000000</td>\n",
       "      <td>78.000000</td>\n",
       "      <td>1975.000000</td>\n",
       "      <td>4.589752e+07</td>\n",
       "      <td>8.519147e+06</td>\n",
       "      <td>8.520969e+06</td>\n",
       "      <td>4.565597e+07</td>\n",
       "      <td>2.000000</td>\n",
       "      <td>8452.000000</td>\n",
       "      <td>1.879439e+06</td>\n",
       "    </tr>\n",
       "  </tbody>\n",
       "</table>\n",
       "</div>"
      ],
      "text/plain": [
       "       AcceptedAnswerId    AnswerCount   CommentCount  FavoriteCount  \\\n",
       "count      1.554130e+05  289122.000000  740551.000000   64482.000000   \n",
       "mean       2.188093e+07       1.568888       1.616648       2.588831   \n",
       "std        1.302721e+07       1.467868       2.446708      15.939425   \n",
       "min        1.520000e+02       0.000000       0.000000       0.000000   \n",
       "25%        1.046178e+07       1.000000       0.000000       1.000000   \n",
       "50%        2.122981e+07       1.000000       1.000000       1.000000   \n",
       "75%        3.295962e+07       2.000000       2.000000       2.000000   \n",
       "max        4.589754e+07     129.000000      78.000000    1975.000000   \n",
       "\n",
       "                 Id  LastEditorUserId   OwnerUserId      ParentId  \\\n",
       "count  7.405510e+05      2.886740e+05  7.341930e+05  4.514290e+05   \n",
       "mean   2.270647e+07      1.670357e+06  2.047029e+06  2.046728e+07   \n",
       "std    1.329865e+07      1.863811e+06  2.000867e+06  1.330404e+07   \n",
       "min    1.460000e+02     -1.000000e+00  1.000000e+00  1.460000e+02   \n",
       "25%    1.108498e+07      2.019520e+05  4.500710e+05  8.633090e+06   \n",
       "50%    2.251738e+07      9.902140e+05  1.342021e+06  1.931117e+07   \n",
       "75%    3.430112e+07      2.557554e+06  3.134247e+06  3.172841e+07   \n",
       "max    4.589752e+07      8.519147e+06  8.520969e+06  4.565597e+07   \n",
       "\n",
       "          PostTypeId          Score     ViewCount  \n",
       "count  740551.000000  740551.000000  2.891220e+05  \n",
       "mean        1.609585       2.313132  1.909157e+03  \n",
       "std         0.487844      20.588704  1.284067e+04  \n",
       "min         1.000000    -154.000000  2.000000e+00  \n",
       "25%         1.000000       0.000000  7.100000e+01  \n",
       "50%         2.000000       1.000000  2.340000e+02  \n",
       "75%         2.000000       2.000000  8.820000e+02  \n",
       "max         2.000000    8452.000000  1.879439e+06  "
      ]
     },
     "metadata": {},
     "output_type": "display_data"
    }
   ],
   "source": [
    "display(posts_df.info())\n",
    "display(posts_df.describe())"
   ]
  },
  {
   "cell_type": "code",
   "execution_count": 23,
   "metadata": {
    "collapsed": false
   },
   "outputs": [
    {
     "data": {
      "text/html": [
       "<div>\n",
       "<style>\n",
       "    .dataframe thead tr:only-child th {\n",
       "        text-align: right;\n",
       "    }\n",
       "\n",
       "    .dataframe thead th {\n",
       "        text-align: left;\n",
       "    }\n",
       "\n",
       "    .dataframe tbody tr th {\n",
       "        vertical-align: top;\n",
       "    }\n",
       "</style>\n",
       "<table border=\"1\" class=\"dataframe\">\n",
       "  <thead>\n",
       "    <tr style=\"text-align: right;\">\n",
       "      <th></th>\n",
       "      <th>AcceptedAnswerId</th>\n",
       "      <th>AnswerCount</th>\n",
       "      <th>Body</th>\n",
       "      <th>ClosedDate</th>\n",
       "      <th>CommentCount</th>\n",
       "      <th>CommunityOwnedDate</th>\n",
       "      <th>CreationDate</th>\n",
       "      <th>FavoriteCount</th>\n",
       "      <th>Id</th>\n",
       "      <th>LastActivityDate</th>\n",
       "      <th>...</th>\n",
       "      <th>LastEditorDisplayName</th>\n",
       "      <th>LastEditorUserId</th>\n",
       "      <th>OwnerDisplayName</th>\n",
       "      <th>OwnerUserId</th>\n",
       "      <th>ParentId</th>\n",
       "      <th>PostTypeId</th>\n",
       "      <th>Score</th>\n",
       "      <th>Tags</th>\n",
       "      <th>Title</th>\n",
       "      <th>ViewCount</th>\n",
       "    </tr>\n",
       "  </thead>\n",
       "  <tbody>\n",
       "    <tr>\n",
       "      <th>0</th>\n",
       "      <td>NaN</td>\n",
       "      <td>0.0</td>\n",
       "      <td>&lt;p&gt;I have data  to export in an xml file.For t...</td>\n",
       "      <td>NaN</td>\n",
       "      <td>8</td>\n",
       "      <td>NaN</td>\n",
       "      <td>2014-05-20T08:55:37.760</td>\n",
       "      <td>0.0</td>\n",
       "      <td>23755195</td>\n",
       "      <td>2014-05-20T10:35:35.720</td>\n",
       "      <td>...</td>\n",
       "      <td>NaN</td>\n",
       "      <td>2265011.0</td>\n",
       "      <td>NaN</td>\n",
       "      <td>2933719.0</td>\n",
       "      <td>NaN</td>\n",
       "      <td>1</td>\n",
       "      <td>0</td>\n",
       "      <td>&lt;php&gt;&lt;xml&gt;&lt;zend-framework&gt;</td>\n",
       "      <td>export xml file with php</td>\n",
       "      <td>60.0</td>\n",
       "    </tr>\n",
       "    <tr>\n",
       "      <th>1</th>\n",
       "      <td>11641969.0</td>\n",
       "      <td>2.0</td>\n",
       "      <td>&lt;p&gt;Specifically, I just want to generate a cry...</td>\n",
       "      <td>NaN</td>\n",
       "      <td>0</td>\n",
       "      <td>NaN</td>\n",
       "      <td>2012-02-25T05:36:55.577</td>\n",
       "      <td>NaN</td>\n",
       "      <td>9441598</td>\n",
       "      <td>2016-10-05T15:19:19.207</td>\n",
       "      <td>...</td>\n",
       "      <td>NaN</td>\n",
       "      <td>839689.0</td>\n",
       "      <td>NaN</td>\n",
       "      <td>234261.0</td>\n",
       "      <td>NaN</td>\n",
       "      <td>1</td>\n",
       "      <td>3</td>\n",
       "      <td>&lt;java&gt;&lt;android&gt;&lt;security&gt;&lt;openssl&gt;</td>\n",
       "      <td>Is there a java equivalent to OpenSSL's bn_ran...</td>\n",
       "      <td>782.0</td>\n",
       "    </tr>\n",
       "    <tr>\n",
       "      <th>2</th>\n",
       "      <td>27978026.0</td>\n",
       "      <td>1.0</td>\n",
       "      <td>&lt;p&gt;I have developed an ASP.NET MVC 5 website t...</td>\n",
       "      <td>NaN</td>\n",
       "      <td>0</td>\n",
       "      <td>NaN</td>\n",
       "      <td>2015-01-16T05:48:50.200</td>\n",
       "      <td>0.0</td>\n",
       "      <td>27978003</td>\n",
       "      <td>2015-01-16T05:51:26.993</td>\n",
       "      <td>...</td>\n",
       "      <td>NaN</td>\n",
       "      <td>NaN</td>\n",
       "      <td>NaN</td>\n",
       "      <td>694903.0</td>\n",
       "      <td>NaN</td>\n",
       "      <td>1</td>\n",
       "      <td>1</td>\n",
       "      <td>&lt;asp.net-mvc&gt;&lt;seo&gt;</td>\n",
       "      <td>Google is indexing post actions</td>\n",
       "      <td>151.0</td>\n",
       "    </tr>\n",
       "    <tr>\n",
       "      <th>3</th>\n",
       "      <td>1989786.0</td>\n",
       "      <td>1.0</td>\n",
       "      <td>&lt;p&gt;I'm writing an client application that has ...</td>\n",
       "      <td>NaN</td>\n",
       "      <td>0</td>\n",
       "      <td>NaN</td>\n",
       "      <td>2010-01-01T06:14:51.083</td>\n",
       "      <td>NaN</td>\n",
       "      <td>1988012</td>\n",
       "      <td>2010-01-01T21:58:37.020</td>\n",
       "      <td>...</td>\n",
       "      <td>NaN</td>\n",
       "      <td>NaN</td>\n",
       "      <td>NaN</td>\n",
       "      <td>157552.0</td>\n",
       "      <td>NaN</td>\n",
       "      <td>1</td>\n",
       "      <td>1</td>\n",
       "      <td>&lt;.net&gt;&lt;ssl&gt;&lt;httpwebrequest&gt;</td>\n",
       "      <td>HTTPWebRequest, SSL end point validation and</td>\n",
       "      <td>586.0</td>\n",
       "    </tr>\n",
       "    <tr>\n",
       "      <th>4</th>\n",
       "      <td>NaN</td>\n",
       "      <td>1.0</td>\n",
       "      <td>&lt;p&gt;I have a wcf service hosted in sharepoint t...</td>\n",
       "      <td>NaN</td>\n",
       "      <td>0</td>\n",
       "      <td>NaN</td>\n",
       "      <td>2012-09-11T13:10:03.250</td>\n",
       "      <td>NaN</td>\n",
       "      <td>12370490</td>\n",
       "      <td>2012-09-11T16:45:50.587</td>\n",
       "      <td>...</td>\n",
       "      <td>NaN</td>\n",
       "      <td>NaN</td>\n",
       "      <td>NaN</td>\n",
       "      <td>634046.0</td>\n",
       "      <td>NaN</td>\n",
       "      <td>1</td>\n",
       "      <td>0</td>\n",
       "      <td>&lt;wcf&gt;&lt;sharepoint&gt;&lt;datajs&gt;</td>\n",
       "      <td>Can datajs read non-odata services</td>\n",
       "      <td>81.0</td>\n",
       "    </tr>\n",
       "  </tbody>\n",
       "</table>\n",
       "<p>5 rows × 21 columns</p>\n",
       "</div>"
      ],
      "text/plain": [
       "   AcceptedAnswerId  AnswerCount  \\\n",
       "0               NaN          0.0   \n",
       "1        11641969.0          2.0   \n",
       "2        27978026.0          1.0   \n",
       "3         1989786.0          1.0   \n",
       "4               NaN          1.0   \n",
       "\n",
       "                                                Body ClosedDate  CommentCount  \\\n",
       "0  <p>I have data  to export in an xml file.For t...        NaN             8   \n",
       "1  <p>Specifically, I just want to generate a cry...        NaN             0   \n",
       "2  <p>I have developed an ASP.NET MVC 5 website t...        NaN             0   \n",
       "3  <p>I'm writing an client application that has ...        NaN             0   \n",
       "4  <p>I have a wcf service hosted in sharepoint t...        NaN             0   \n",
       "\n",
       "  CommunityOwnedDate             CreationDate  FavoriteCount        Id  \\\n",
       "0                NaN  2014-05-20T08:55:37.760            0.0  23755195   \n",
       "1                NaN  2012-02-25T05:36:55.577            NaN   9441598   \n",
       "2                NaN  2015-01-16T05:48:50.200            0.0  27978003   \n",
       "3                NaN  2010-01-01T06:14:51.083            NaN   1988012   \n",
       "4                NaN  2012-09-11T13:10:03.250            NaN  12370490   \n",
       "\n",
       "          LastActivityDate    ...    LastEditorDisplayName LastEditorUserId  \\\n",
       "0  2014-05-20T10:35:35.720    ...                      NaN        2265011.0   \n",
       "1  2016-10-05T15:19:19.207    ...                      NaN         839689.0   \n",
       "2  2015-01-16T05:51:26.993    ...                      NaN              NaN   \n",
       "3  2010-01-01T21:58:37.020    ...                      NaN              NaN   \n",
       "4  2012-09-11T16:45:50.587    ...                      NaN              NaN   \n",
       "\n",
       "   OwnerDisplayName OwnerUserId  ParentId  PostTypeId  Score  \\\n",
       "0               NaN   2933719.0       NaN           1      0   \n",
       "1               NaN    234261.0       NaN           1      3   \n",
       "2               NaN    694903.0       NaN           1      1   \n",
       "3               NaN    157552.0       NaN           1      1   \n",
       "4               NaN    634046.0       NaN           1      0   \n",
       "\n",
       "                                 Tags  \\\n",
       "0          <php><xml><zend-framework>   \n",
       "1  <java><android><security><openssl>   \n",
       "2                  <asp.net-mvc><seo>   \n",
       "3         <.net><ssl><httpwebrequest>   \n",
       "4           <wcf><sharepoint><datajs>   \n",
       "\n",
       "                                               Title ViewCount  \n",
       "0                           export xml file with php      60.0  \n",
       "1  Is there a java equivalent to OpenSSL's bn_ran...     782.0  \n",
       "2                    Google is indexing post actions     151.0  \n",
       "3       HTTPWebRequest, SSL end point validation and     586.0  \n",
       "4                 Can datajs read non-odata services      81.0  \n",
       "\n",
       "[5 rows x 21 columns]"
      ]
     },
     "execution_count": 23,
     "metadata": {},
     "output_type": "execute_result"
    }
   ],
   "source": [
    "posts_df.head()"
   ]
  },
  {
   "cell_type": "code",
   "execution_count": 57,
   "metadata": {
    "collapsed": false
   },
   "outputs": [
    {
     "data": {
      "image/png": "[encoded data removed]",
      "text/plain": [
       "<matplotlib.figure.Figure at 0x16a40e56fd0>"
      ]
     },
     "metadata": {},
     "output_type": "display_data"
    }
   ],
   "source": [
    "import matplotlib.pyplot as plt\n",
    "posts_df['CreationDate'] = pd.to_datetime(posts_df['CreationDate']).dt.date\n",
    "counts = posts_df['CreationDate'].value_counts(sort=False)\n",
    "plt.bar(counts.index,counts)\n",
    "plt.show()"
   ]
  },
  {
   "cell_type": "markdown",
   "metadata": {},
   "source": [
    "# Comments"
   ]
  },
  {
   "cell_type": "code",
   "execution_count": 63,
   "metadata": {
    "collapsed": false
   },
   "outputs": [],
   "source": [
    "comments_df = pd.read_csv(comments_file,  encoding = \"ISO-8859-1\")"
   ]
  },
  {
   "cell_type": "code",
   "execution_count": 64,
   "metadata": {
    "collapsed": false
   },
   "outputs": [
    {
     "name": "stdout",
     "output_type": "stream",
     "text": [
      "<class 'pandas.core.frame.DataFrame'>\n",
      "RangeIndex: 617492 entries, 0 to 617491\n",
      "Data columns (total 7 columns):\n",
      "CreationDate       617491 non-null object\n",
      "Id                 617492 non-null int64\n",
      "PostId             617491 non-null float64\n",
      "Score              617491 non-null float64\n",
      "Text               617491 non-null object\n",
      "UserDisplayName    4725 non-null object\n",
      "UserId             552667 non-null float64\n",
      "dtypes: float64(3), int64(1), object(3)\n",
      "memory usage: 33.0+ MB\n"
     ]
    },
    {
     "data": {
      "text/plain": [
       "None"
      ]
     },
     "metadata": {},
     "output_type": "display_data"
    },
    {
     "data": {
      "text/html": [
       "<div>\n",
       "<style>\n",
       "    .dataframe thead tr:only-child th {\n",
       "        text-align: right;\n",
       "    }\n",
       "\n",
       "    .dataframe thead th {\n",
       "        text-align: left;\n",
       "    }\n",
       "\n",
       "    .dataframe tbody tr th {\n",
       "        vertical-align: top;\n",
       "    }\n",
       "</style>\n",
       "<table border=\"1\" class=\"dataframe\">\n",
       "  <thead>\n",
       "    <tr style=\"text-align: right;\">\n",
       "      <th></th>\n",
       "      <th>Id</th>\n",
       "      <th>PostId</th>\n",
       "      <th>Score</th>\n",
       "      <th>UserId</th>\n",
       "    </tr>\n",
       "  </thead>\n",
       "  <tbody>\n",
       "    <tr>\n",
       "      <th>count</th>\n",
       "      <td>6.174920e+05</td>\n",
       "      <td>6.174910e+05</td>\n",
       "      <td>617491.000000</td>\n",
       "      <td>5.526670e+05</td>\n",
       "    </tr>\n",
       "    <tr>\n",
       "      <th>mean</th>\n",
       "      <td>4.281410e+07</td>\n",
       "      <td>2.646255e+07</td>\n",
       "      <td>0.283662</td>\n",
       "      <td>2.052768e+06</td>\n",
       "    </tr>\n",
       "    <tr>\n",
       "      <th>std</th>\n",
       "      <td>2.099738e+07</td>\n",
       "      <td>1.176410e+07</td>\n",
       "      <td>1.201878</td>\n",
       "      <td>1.916689e+06</td>\n",
       "    </tr>\n",
       "    <tr>\n",
       "      <th>min</th>\n",
       "      <td>6.070000e+02</td>\n",
       "      <td>4.689000e+03</td>\n",
       "      <td>0.000000</td>\n",
       "      <td>1.000000e+00</td>\n",
       "    </tr>\n",
       "    <tr>\n",
       "      <th>25%</th>\n",
       "      <td>2.571467e+07</td>\n",
       "      <td>1.723063e+07</td>\n",
       "      <td>0.000000</td>\n",
       "      <td>5.246150e+05</td>\n",
       "    </tr>\n",
       "    <tr>\n",
       "      <th>50%</th>\n",
       "      <td>4.683328e+07</td>\n",
       "      <td>2.896702e+07</td>\n",
       "      <td>0.000000</td>\n",
       "      <td>1.416237e+06</td>\n",
       "    </tr>\n",
       "    <tr>\n",
       "      <th>75%</th>\n",
       "      <td>5.912534e+07</td>\n",
       "      <td>3.548742e+07</td>\n",
       "      <td>0.000000</td>\n",
       "      <td>3.105538e+06</td>\n",
       "    </tr>\n",
       "    <tr>\n",
       "      <th>max</th>\n",
       "      <td>7.864530e+07</td>\n",
       "      <td>4.584342e+07</td>\n",
       "      <td>250.000000</td>\n",
       "      <td>8.506751e+06</td>\n",
       "    </tr>\n",
       "  </tbody>\n",
       "</table>\n",
       "</div>"
      ],
      "text/plain": [
       "                 Id        PostId          Score        UserId\n",
       "count  6.174920e+05  6.174910e+05  617491.000000  5.526670e+05\n",
       "mean   4.281410e+07  2.646255e+07       0.283662  2.052768e+06\n",
       "std    2.099738e+07  1.176410e+07       1.201878  1.916689e+06\n",
       "min    6.070000e+02  4.689000e+03       0.000000  1.000000e+00\n",
       "25%    2.571467e+07  1.723063e+07       0.000000  5.246150e+05\n",
       "50%    4.683328e+07  2.896702e+07       0.000000  1.416237e+06\n",
       "75%    5.912534e+07  3.548742e+07       0.000000  3.105538e+06\n",
       "max    7.864530e+07  4.584342e+07     250.000000  8.506751e+06"
      ]
     },
     "metadata": {},
     "output_type": "display_data"
    }
   ],
   "source": [
    "display(comments_df.info())\n",
    "display(comments_df.describe())"
   ]
  },
  {
   "cell_type": "code",
   "execution_count": 65,
   "metadata": {
    "collapsed": false
   },
   "outputs": [
    {
     "data": {
      "text/html": [
       "<div>\n",
       "<style>\n",
       "    .dataframe thead tr:only-child th {\n",
       "        text-align: right;\n",
       "    }\n",
       "\n",
       "    .dataframe thead th {\n",
       "        text-align: left;\n",
       "    }\n",
       "\n",
       "    .dataframe tbody tr th {\n",
       "        vertical-align: top;\n",
       "    }\n",
       "</style>\n",
       "<table border=\"1\" class=\"dataframe\">\n",
       "  <thead>\n",
       "    <tr style=\"text-align: right;\">\n",
       "      <th></th>\n",
       "      <th>CreationDate</th>\n",
       "      <th>Id</th>\n",
       "      <th>PostId</th>\n",
       "      <th>Score</th>\n",
       "      <th>Text</th>\n",
       "      <th>UserDisplayName</th>\n",
       "      <th>UserId</th>\n",
       "    </tr>\n",
       "  </thead>\n",
       "  <tbody>\n",
       "    <tr>\n",
       "      <th>0</th>\n",
       "      <td>2008-09-08T23:33:45.430</td>\n",
       "      <td>607</td>\n",
       "      <td>50794.0</td>\n",
       "      <td>0.0</td>\n",
       "      <td>Can you give an example of what you mean by \"r...</td>\n",
       "      <td>NaN</td>\n",
       "      <td>3408.0</td>\n",
       "    </tr>\n",
       "    <tr>\n",
       "      <th>1</th>\n",
       "      <td>2008-09-09T11:54:40.610</td>\n",
       "      <td>824</td>\n",
       "      <td>51684.0</td>\n",
       "      <td>0.0</td>\n",
       "      <td>Is this a question about how to use the samuri...</td>\n",
       "      <td>NaN</td>\n",
       "      <td>4200.0</td>\n",
       "    </tr>\n",
       "    <tr>\n",
       "      <th>2</th>\n",
       "      <td>2008-09-09T14:14:33.550</td>\n",
       "      <td>896</td>\n",
       "      <td>51964.0</td>\n",
       "      <td>0.0</td>\n",
       "      <td>The reason the the querystring is read-only is...</td>\n",
       "      <td>NaN</td>\n",
       "      <td>2257.0</td>\n",
       "    </tr>\n",
       "    <tr>\n",
       "      <th>3</th>\n",
       "      <td>2008-09-09T16:08:45.507</td>\n",
       "      <td>992</td>\n",
       "      <td>51885.0</td>\n",
       "      <td>0.0</td>\n",
       "      <td>Wow... it is amazing most everyone does the sa...</td>\n",
       "      <td>NaN</td>\n",
       "      <td>2535.0</td>\n",
       "    </tr>\n",
       "    <tr>\n",
       "      <th>4</th>\n",
       "      <td>2008-09-10T17:53:15.343</td>\n",
       "      <td>1710</td>\n",
       "      <td>54797.0</td>\n",
       "      <td>0.0</td>\n",
       "      <td>well if you answer your question, should it be...</td>\n",
       "      <td>NaN</td>\n",
       "      <td>4685.0</td>\n",
       "    </tr>\n",
       "  </tbody>\n",
       "</table>\n",
       "</div>"
      ],
      "text/plain": [
       "              CreationDate    Id   PostId  Score  \\\n",
       "0  2008-09-08T23:33:45.430   607  50794.0    0.0   \n",
       "1  2008-09-09T11:54:40.610   824  51684.0    0.0   \n",
       "2  2008-09-09T14:14:33.550   896  51964.0    0.0   \n",
       "3  2008-09-09T16:08:45.507   992  51885.0    0.0   \n",
       "4  2008-09-10T17:53:15.343  1710  54797.0    0.0   \n",
       "\n",
       "                                                Text UserDisplayName  UserId  \n",
       "0  Can you give an example of what you mean by \"r...             NaN  3408.0  \n",
       "1  Is this a question about how to use the samuri...             NaN  4200.0  \n",
       "2  The reason the the querystring is read-only is...             NaN  2257.0  \n",
       "3  Wow... it is amazing most everyone does the sa...             NaN  2535.0  \n",
       "4  well if you answer your question, should it be...             NaN  4685.0  "
      ]
     },
     "execution_count": 65,
     "metadata": {},
     "output_type": "execute_result"
    }
   ],
   "source": [
    "comments_df.head()"
   ]
  },
  {
   "cell_type": "markdown",
   "metadata": {},
   "source": [
    "# Tags"
   ]
  },
  {
   "cell_type": "code",
   "execution_count": 71,
   "metadata": {
    "collapsed": true
   },
   "outputs": [],
   "source": [
    "tags_df = pd.read_csv(tags_file,  encoding = \"ISO-8859-1\" )"
   ]
  },
  {
   "cell_type": "code",
   "execution_count": 72,
   "metadata": {
    "collapsed": false
   },
   "outputs": [
    {
     "name": "stdout",
     "output_type": "stream",
     "text": [
      "<class 'pandas.core.frame.DataFrame'>\n",
      "RangeIndex: 50001 entries, 0 to 50000\n",
      "Data columns (total 5 columns):\n",
      "Count            50000 non-null float64\n",
      "ExcerptPostId    36088 non-null float64\n",
      "Id               50000 non-null float64\n",
      "TagName          49999 non-null object\n",
      "WikiPostId       36088 non-null float64\n",
      "dtypes: float64(4), object(1)\n",
      "memory usage: 1.9+ MB\n"
     ]
    },
    {
     "data": {
      "text/plain": [
       "None"
      ]
     },
     "metadata": {},
     "output_type": "display_data"
    },
    {
     "data": {
      "text/html": [
       "<div>\n",
       "<style>\n",
       "    .dataframe thead tr:only-child th {\n",
       "        text-align: right;\n",
       "    }\n",
       "\n",
       "    .dataframe thead th {\n",
       "        text-align: left;\n",
       "    }\n",
       "\n",
       "    .dataframe tbody tr th {\n",
       "        vertical-align: top;\n",
       "    }\n",
       "</style>\n",
       "<table border=\"1\" class=\"dataframe\">\n",
       "  <thead>\n",
       "    <tr style=\"text-align: right;\">\n",
       "      <th></th>\n",
       "      <th>Count</th>\n",
       "      <th>ExcerptPostId</th>\n",
       "      <th>Id</th>\n",
       "      <th>WikiPostId</th>\n",
       "    </tr>\n",
       "  </thead>\n",
       "  <tbody>\n",
       "    <tr>\n",
       "      <th>count</th>\n",
       "      <td>5.000000e+04</td>\n",
       "      <td>3.608800e+04</td>\n",
       "      <td>50000.000000</td>\n",
       "      <td>3.608800e+04</td>\n",
       "    </tr>\n",
       "    <tr>\n",
       "      <th>mean</th>\n",
       "      <td>8.584276e+02</td>\n",
       "      <td>2.013356e+07</td>\n",
       "      <td>70953.986260</td>\n",
       "      <td>2.013349e+07</td>\n",
       "    </tr>\n",
       "    <tr>\n",
       "      <th>std</th>\n",
       "      <td>1.550350e+04</td>\n",
       "      <td>1.140341e+07</td>\n",
       "      <td>40705.477352</td>\n",
       "      <td>1.140351e+07</td>\n",
       "    </tr>\n",
       "    <tr>\n",
       "      <th>min</th>\n",
       "      <td>1.000000e+00</td>\n",
       "      <td>3.624936e+06</td>\n",
       "      <td>1.000000</td>\n",
       "      <td>3.606997e+06</td>\n",
       "    </tr>\n",
       "    <tr>\n",
       "      <th>25%</th>\n",
       "      <td>1.000000e+01</td>\n",
       "      <td>1.027232e+07</td>\n",
       "      <td>32426.750000</td>\n",
       "      <td>1.027232e+07</td>\n",
       "    </tr>\n",
       "    <tr>\n",
       "      <th>50%</th>\n",
       "      <td>3.600000e+01</td>\n",
       "      <td>1.788308e+07</td>\n",
       "      <td>76955.500000</td>\n",
       "      <td>1.788307e+07</td>\n",
       "    </tr>\n",
       "    <tr>\n",
       "      <th>75%</th>\n",
       "      <td>1.530000e+02</td>\n",
       "      <td>2.894264e+07</td>\n",
       "      <td>108904.250000</td>\n",
       "      <td>2.894263e+07</td>\n",
       "    </tr>\n",
       "    <tr>\n",
       "      <th>max</th>\n",
       "      <td>1.457944e+06</td>\n",
       "      <td>4.590104e+07</td>\n",
       "      <td>128242.000000</td>\n",
       "      <td>4.590104e+07</td>\n",
       "    </tr>\n",
       "  </tbody>\n",
       "</table>\n",
       "</div>"
      ],
      "text/plain": [
       "              Count  ExcerptPostId             Id    WikiPostId\n",
       "count  5.000000e+04   3.608800e+04   50000.000000  3.608800e+04\n",
       "mean   8.584276e+02   2.013356e+07   70953.986260  2.013349e+07\n",
       "std    1.550350e+04   1.140341e+07   40705.477352  1.140351e+07\n",
       "min    1.000000e+00   3.624936e+06       1.000000  3.606997e+06\n",
       "25%    1.000000e+01   1.027232e+07   32426.750000  1.027232e+07\n",
       "50%    3.600000e+01   1.788308e+07   76955.500000  1.788307e+07\n",
       "75%    1.530000e+02   2.894264e+07  108904.250000  2.894263e+07\n",
       "max    1.457944e+06   4.590104e+07  128242.000000  4.590104e+07"
      ]
     },
     "metadata": {},
     "output_type": "display_data"
    }
   ],
   "source": [
    "display(tags_df.info())\n",
    "display(tags_df.describe())"
   ]
  },
  {
   "cell_type": "code",
   "execution_count": 73,
   "metadata": {
    "collapsed": false
   },
   "outputs": [
    {
     "data": {
      "text/html": [
       "<div>\n",
       "<style>\n",
       "    .dataframe thead tr:only-child th {\n",
       "        text-align: right;\n",
       "    }\n",
       "\n",
       "    .dataframe thead th {\n",
       "        text-align: left;\n",
       "    }\n",
       "\n",
       "    .dataframe tbody tr th {\n",
       "        vertical-align: top;\n",
       "    }\n",
       "</style>\n",
       "<table border=\"1\" class=\"dataframe\">\n",
       "  <thead>\n",
       "    <tr style=\"text-align: right;\">\n",
       "      <th></th>\n",
       "      <th>Count</th>\n",
       "      <th>ExcerptPostId</th>\n",
       "      <th>Id</th>\n",
       "      <th>TagName</th>\n",
       "      <th>WikiPostId</th>\n",
       "    </tr>\n",
       "  </thead>\n",
       "  <tbody>\n",
       "    <tr>\n",
       "      <th>0</th>\n",
       "      <td>257092.0</td>\n",
       "      <td>3624959.0</td>\n",
       "      <td>1.0</td>\n",
       "      <td>.net</td>\n",
       "      <td>3607476.0</td>\n",
       "    </tr>\n",
       "    <tr>\n",
       "      <th>1</th>\n",
       "      <td>683981.0</td>\n",
       "      <td>3673183.0</td>\n",
       "      <td>2.0</td>\n",
       "      <td>html</td>\n",
       "      <td>3673182.0</td>\n",
       "    </tr>\n",
       "    <tr>\n",
       "      <th>2</th>\n",
       "      <td>1457944.0</td>\n",
       "      <td>3624960.0</td>\n",
       "      <td>3.0</td>\n",
       "      <td>javascript</td>\n",
       "      <td>3607052.0</td>\n",
       "    </tr>\n",
       "    <tr>\n",
       "      <th>3</th>\n",
       "      <td>490198.0</td>\n",
       "      <td>3644670.0</td>\n",
       "      <td>4.0</td>\n",
       "      <td>css</td>\n",
       "      <td>3644669.0</td>\n",
       "    </tr>\n",
       "    <tr>\n",
       "      <th>4</th>\n",
       "      <td>1114030.0</td>\n",
       "      <td>3624936.0</td>\n",
       "      <td>5.0</td>\n",
       "      <td>php</td>\n",
       "      <td>3607050.0</td>\n",
       "    </tr>\n",
       "  </tbody>\n",
       "</table>\n",
       "</div>"
      ],
      "text/plain": [
       "       Count  ExcerptPostId   Id     TagName  WikiPostId\n",
       "0   257092.0      3624959.0  1.0        .net   3607476.0\n",
       "1   683981.0      3673183.0  2.0        html   3673182.0\n",
       "2  1457944.0      3624960.0  3.0  javascript   3607052.0\n",
       "3   490198.0      3644670.0  4.0         css   3644669.0\n",
       "4  1114030.0      3624936.0  5.0         php   3607050.0"
      ]
     },
     "execution_count": 73,
     "metadata": {},
     "output_type": "execute_result"
    }
   ],
   "source": [
    "tags_df.head()"
   ]
  },
  {
   "cell_type": "markdown",
   "metadata": {},
   "source": [
    "# PostLinks"
   ]
  },
  {
   "cell_type": "code",
   "execution_count": 81,
   "metadata": {
    "collapsed": false
   },
   "outputs": [],
   "source": [
    "links_df = pd.read_csv(links_file,  encoding = \"ISO-8859-1\" )"
   ]
  },
  {
   "cell_type": "code",
   "execution_count": 82,
   "metadata": {
    "collapsed": false
   },
   "outputs": [
    {
     "name": "stdout",
     "output_type": "stream",
     "text": [
      "<class 'pandas.core.frame.DataFrame'>\n",
      "RangeIndex: 4406858 entries, 0 to 4406857\n",
      "Data columns (total 5 columns):\n",
      "CreationDate     object\n",
      "Id               float64\n",
      "LinkTypeId       float64\n",
      "PostId           float64\n",
      "RelatedPostId    float64\n",
      "dtypes: float64(4), object(1)\n",
      "memory usage: 168.1+ MB\n"
     ]
    },
    {
     "data": {
      "text/plain": [
       "None"
      ]
     },
     "metadata": {},
     "output_type": "display_data"
    },
    {
     "data": {
      "text/html": [
       "<div>\n",
       "<style>\n",
       "    .dataframe thead tr:only-child th {\n",
       "        text-align: right;\n",
       "    }\n",
       "\n",
       "    .dataframe thead th {\n",
       "        text-align: left;\n",
       "    }\n",
       "\n",
       "    .dataframe tbody tr th {\n",
       "        vertical-align: top;\n",
       "    }\n",
       "</style>\n",
       "<table border=\"1\" class=\"dataframe\">\n",
       "  <thead>\n",
       "    <tr style=\"text-align: right;\">\n",
       "      <th></th>\n",
       "      <th>Id</th>\n",
       "      <th>LinkTypeId</th>\n",
       "      <th>PostId</th>\n",
       "      <th>RelatedPostId</th>\n",
       "    </tr>\n",
       "  </thead>\n",
       "  <tbody>\n",
       "    <tr>\n",
       "      <th>count</th>\n",
       "      <td>4.406857e+06</td>\n",
       "      <td>4.406857e+06</td>\n",
       "      <td>4.406857e+06</td>\n",
       "      <td>4.406857e+06</td>\n",
       "    </tr>\n",
       "    <tr>\n",
       "      <th>mean</th>\n",
       "      <td>9.555026e+08</td>\n",
       "      <td>1.233750e+00</td>\n",
       "      <td>2.579506e+07</td>\n",
       "      <td>1.225025e+07</td>\n",
       "    </tr>\n",
       "    <tr>\n",
       "      <th>std</th>\n",
       "      <td>3.257638e+08</td>\n",
       "      <td>6.425424e-01</td>\n",
       "      <td>1.279236e+07</td>\n",
       "      <td>1.141506e+07</td>\n",
       "    </tr>\n",
       "    <tr>\n",
       "      <th>min</th>\n",
       "      <td>1.900000e+01</td>\n",
       "      <td>1.000000e+00</td>\n",
       "      <td>9.000000e+00</td>\n",
       "      <td>0.000000e+00</td>\n",
       "    </tr>\n",
       "    <tr>\n",
       "      <th>25%</th>\n",
       "      <td>8.021379e+08</td>\n",
       "      <td>1.000000e+00</td>\n",
       "      <td>1.509226e+07</td>\n",
       "      <td>2.819781e+06</td>\n",
       "    </tr>\n",
       "    <tr>\n",
       "      <th>50%</th>\n",
       "      <td>1.007205e+09</td>\n",
       "      <td>1.000000e+00</td>\n",
       "      <td>2.703287e+07</td>\n",
       "      <td>8.586722e+06</td>\n",
       "    </tr>\n",
       "    <tr>\n",
       "      <th>75%</th>\n",
       "      <td>1.210140e+09</td>\n",
       "      <td>1.000000e+00</td>\n",
       "      <td>3.692188e+07</td>\n",
       "      <td>1.904878e+07</td>\n",
       "    </tr>\n",
       "    <tr>\n",
       "      <th>max</th>\n",
       "      <td>1.353757e+09</td>\n",
       "      <td>3.000000e+00</td>\n",
       "      <td>4.590234e+07</td>\n",
       "      <td>3.825315e+08</td>\n",
       "    </tr>\n",
       "  </tbody>\n",
       "</table>\n",
       "</div>"
      ],
      "text/plain": [
       "                 Id    LinkTypeId        PostId  RelatedPostId\n",
       "count  4.406857e+06  4.406857e+06  4.406857e+06   4.406857e+06\n",
       "mean   9.555026e+08  1.233750e+00  2.579506e+07   1.225025e+07\n",
       "std    3.257638e+08  6.425424e-01  1.279236e+07   1.141506e+07\n",
       "min    1.900000e+01  1.000000e+00  9.000000e+00   0.000000e+00\n",
       "25%    8.021379e+08  1.000000e+00  1.509226e+07   2.819781e+06\n",
       "50%    1.007205e+09  1.000000e+00  2.703287e+07   8.586722e+06\n",
       "75%    1.210140e+09  1.000000e+00  3.692188e+07   1.904878e+07\n",
       "max    1.353757e+09  3.000000e+00  4.590234e+07   3.825315e+08"
      ]
     },
     "metadata": {},
     "output_type": "display_data"
    }
   ],
   "source": [
    "display(links_df.info())\n",
    "display(links_df.describe())"
   ]
  },
  {
   "cell_type": "code",
   "execution_count": 83,
   "metadata": {
    "collapsed": false
   },
   "outputs": [
    {
     "data": {
      "text/html": [
       "<div>\n",
       "<style>\n",
       "    .dataframe thead tr:only-child th {\n",
       "        text-align: right;\n",
       "    }\n",
       "\n",
       "    .dataframe thead th {\n",
       "        text-align: left;\n",
       "    }\n",
       "\n",
       "    .dataframe tbody tr th {\n",
       "        vertical-align: top;\n",
       "    }\n",
       "</style>\n",
       "<table border=\"1\" class=\"dataframe\">\n",
       "  <thead>\n",
       "    <tr style=\"text-align: right;\">\n",
       "      <th></th>\n",
       "      <th>CreationDate</th>\n",
       "      <th>Id</th>\n",
       "      <th>LinkTypeId</th>\n",
       "      <th>PostId</th>\n",
       "      <th>RelatedPostId</th>\n",
       "    </tr>\n",
       "  </thead>\n",
       "  <tbody>\n",
       "    <tr>\n",
       "      <th>0</th>\n",
       "      <td>2010-04-26T02:59:48.130</td>\n",
       "      <td>19.0</td>\n",
       "      <td>1.0</td>\n",
       "      <td>109.0</td>\n",
       "      <td>32412.0</td>\n",
       "    </tr>\n",
       "    <tr>\n",
       "      <th>1</th>\n",
       "      <td>2010-04-26T02:59:48.600</td>\n",
       "      <td>37.0</td>\n",
       "      <td>1.0</td>\n",
       "      <td>1970.0</td>\n",
       "      <td>617600.0</td>\n",
       "    </tr>\n",
       "    <tr>\n",
       "      <th>2</th>\n",
       "      <td>2010-04-26T02:59:48.647</td>\n",
       "      <td>42.0</td>\n",
       "      <td>1.0</td>\n",
       "      <td>2154.0</td>\n",
       "      <td>2451138.0</td>\n",
       "    </tr>\n",
       "    <tr>\n",
       "      <th>3</th>\n",
       "      <td>2010-04-26T02:59:48.740</td>\n",
       "      <td>48.0</td>\n",
       "      <td>1.0</td>\n",
       "      <td>2483.0</td>\n",
       "      <td>496096.0</td>\n",
       "    </tr>\n",
       "    <tr>\n",
       "      <th>4</th>\n",
       "      <td>2010-04-26T02:59:48.757</td>\n",
       "      <td>52.0</td>\n",
       "      <td>1.0</td>\n",
       "      <td>2572.0</td>\n",
       "      <td>209329.0</td>\n",
       "    </tr>\n",
       "  </tbody>\n",
       "</table>\n",
       "</div>"
      ],
      "text/plain": [
       "              CreationDate    Id  LinkTypeId  PostId  RelatedPostId\n",
       "0  2010-04-26T02:59:48.130  19.0         1.0   109.0        32412.0\n",
       "1  2010-04-26T02:59:48.600  37.0         1.0  1970.0       617600.0\n",
       "2  2010-04-26T02:59:48.647  42.0         1.0  2154.0      2451138.0\n",
       "3  2010-04-26T02:59:48.740  48.0         1.0  2483.0       496096.0\n",
       "4  2010-04-26T02:59:48.757  52.0         1.0  2572.0       209329.0"
      ]
     },
     "execution_count": 83,
     "metadata": {},
     "output_type": "execute_result"
    }
   ],
   "source": [
    "links_df.head()"
   ]
  },
  {
   "cell_type": "markdown",
   "metadata": {},
   "source": [
    "# Cross Checks"
   ]
  },
  {
   "cell_type": "markdown",
   "metadata": {},
   "source": [
    "## Comments.PostId - PostId relation"
   ]
  },
  {
   "cell_type": "code",
   "execution_count": 94,
   "metadata": {
    "collapsed": false
   },
   "outputs": [],
   "source": [
    "questions_df = posts_df[posts_df['PostTypeId'] == 1]\n",
    "relation_array = ~np.isin(comments_df['PostId'].unique(), questions_df['Id'].unique())"
   ]
  },
  {
   "cell_type": "code",
   "execution_count": 108,
   "metadata": {
    "collapsed": false
   },
   "outputs": [],
   "source": [
    "assert len(list(filter(lambda x: x is True, relation_array))) == 0, \"Not equal\""
   ]
  },
  {
   "cell_type": "markdown",
   "metadata": {},
   "source": [
    "## ParentId - Id relation"
   ]
  },
  {
   "cell_type": "code",
   "execution_count": 100,
   "metadata": {
    "collapsed": true
   },
   "outputs": [],
   "source": [
    "questions_df = posts_df[posts_df['PostTypeId'] == 1]\n",
    "answers_df = posts_df[posts_df['PostTypeId'] == 2]"
   ]
  },
  {
   "cell_type": "code",
   "execution_count": 101,
   "metadata": {
    "collapsed": true
   },
   "outputs": [],
   "source": [
    "relation_array = ~np.isin(answers_df['ParentId'].unique(), questions_df['Id'].unique())"
   ]
  },
  {
   "cell_type": "code",
   "execution_count": 111,
   "metadata": {
    "collapsed": false
   },
   "outputs": [],
   "source": [
    "assert len(list(filter(lambda x: x is True, relation_array))) == 0, \"Not equal\""
   ]
  },
  {
   "cell_type": "markdown",
   "metadata": {},
   "source": [
    "## AcceptedAnswerId - Id"
   ]
  },
  {
   "cell_type": "code",
   "execution_count": null,
   "metadata": {
    "collapsed": true
   },
   "outputs": [],
   "source": [
    "questions_df = posts_df[posts_df['PostTypeId'] == 1]\n",
    "answers_df = posts_df[posts_df['PostTypeId'] == 2]"
   ]
  },
  {
   "cell_type": "code",
   "execution_count": 103,
   "metadata": {
    "collapsed": true
   },
   "outputs": [],
   "source": [
    "relation_array = ~np.isin(questions_df['AcceptedAnswerId'].unique(), answers_df['Id'].unique())"
   ]
  },
  {
   "cell_type": "code",
   "execution_count": 105,
   "metadata": {
    "collapsed": false
   },
   "outputs": [],
   "source": [
    "assert len(list(filter(lambda x: x is True, relation_array))) == 0, \"Not equal\""
   ]
  }
 ],
 "metadata": {
  "kernelspec": {
   "display_name": "Python 3",
   "language": "python",
   "name": "python3"
  },
  "language_info": {
   "codemirror_mode": {
    "name": "ipython",
    "version": 3
   },
   "file_extension": ".py",
   "mimetype": "text/x-python",
   "name": "python",
   "nbconvert_exporter": "python",
   "pygments_lexer": "ipython3",
   "version": "3.6.2"
  }
 },
 "nbformat": 4,
 "nbformat_minor": 2
}
