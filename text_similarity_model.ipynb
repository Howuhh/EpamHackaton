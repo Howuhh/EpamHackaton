{
 "cells": [
  {
   "cell_type": "code",
   "execution_count": 2,
   "metadata": {
    "collapsed": true
   },
   "outputs": [],
   "source": [
    "from nltk.corpus import stopwords\n",
    "from nltk.tokenize import word_tokenize\n",
    "from nltk.stem import PorterStemmer\n",
    "from nltk.tokenize import sent_tokenize, word_tokenize\n",
    "\n",
    "from sklearn.feature_extraction.text import TfidfVectorizer, CountVectorizer\n",
    "from sklearn.neighbors import NearestNeighbors\n",
    "from sklearn.decomposition import PCA\n",
    "\n",
    "import requests\n",
    "from bs4 import BeautifulSoup\n",
    "import pandas as pd\n",
    "import itertools\n",
    "import re\n",
    "from tqdm import tqdm_notebook\n",
    "import string\n",
    "import numpy as np"
   ]
  },
  {
   "cell_type": "markdown",
   "metadata": {},
   "source": [
    "# Удаление стоп слов и стемминг"
   ]
  },
  {
   "cell_type": "code",
   "execution_count": 45,
   "metadata": {
    "collapsed": true
   },
   "outputs": [],
   "source": [
    "df_final = pd.read_csv(\"coursera_clean.csv\")\n",
    "df_stack = pd.read_csv(\"tidy_questions.csv\", index_col = \"index\", encoding = \"utf-8\", dtype={'index':np.str})"
   ]
  },
  {
   "cell_type": "code",
   "execution_count": 47,
   "metadata": {
    "collapsed": true
   },
   "outputs": [],
   "source": [
    "df_stack.drop(\"Unnamed: 0\", axis = 1, inplace = True)"
   ]
  },
  {
   "cell_type": "code",
   "execution_count": 48,
   "metadata": {
    "collapsed": true
   },
   "outputs": [],
   "source": [
    "df_stack.dropna(inplace=True)"
   ]
  },
  {
   "cell_type": "code",
   "execution_count": 65,
   "metadata": {
    "collapsed": false
   },
   "outputs": [
    {
     "name": "stdout",
     "output_type": "stream",
     "text": [
      "<class 'pandas.core.frame.DataFrame'>\n",
      "Int64Index: 288227 entries, 23755195 to 31632133\n",
      "Data columns (total 1 columns):\n",
      "Text    288227 non-null object\n",
      "dtypes: object(1)\n",
      "memory usage: 4.4+ MB\n"
     ]
    }
   ],
   "source": [
    "df_stack.info()"
   ]
  },
  {
   "cell_type": "code",
   "execution_count": 4,
   "metadata": {
    "collapsed": false
   },
   "outputs": [
    {
     "data": {
      "text/html": [
       "<div>\n",
       "<style scoped>\n",
       "    .dataframe tbody tr th:only-of-type {\n",
       "        vertical-align: middle;\n",
       "    }\n",
       "\n",
       "    .dataframe tbody tr th {\n",
       "        vertical-align: top;\n",
       "    }\n",
       "\n",
       "    .dataframe thead th {\n",
       "        text-align: right;\n",
       "    }\n",
       "</style>\n",
       "<table border=\"1\" class=\"dataframe\">\n",
       "  <thead>\n",
       "    <tr style=\"text-align: right;\">\n",
       "      <th></th>\n",
       "      <th>index</th>\n",
       "      <th>about</th>\n",
       "      <th>level</th>\n",
       "      <th>rating</th>\n",
       "      <th>rating_count</th>\n",
       "      <th>syllabus</th>\n",
       "    </tr>\n",
       "  </thead>\n",
       "  <tbody>\n",
       "    <tr>\n",
       "      <th>0</th>\n",
       "      <td>https://www.coursera.org/learn/python</td>\n",
       "      <td>this course aims to teach everyone the basics...</td>\n",
       "      <td>NaN</td>\n",
       "      <td>4.8</td>\n",
       "      <td>29620</td>\n",
       "      <td>chapter one why we program these are the cours...</td>\n",
       "    </tr>\n",
       "    <tr>\n",
       "      <th>1</th>\n",
       "      <td>https://www.coursera.org/learn/algorithms-part1</td>\n",
       "      <td>this course covers the essential information ...</td>\n",
       "      <td>Intermediate</td>\n",
       "      <td>4.9</td>\n",
       "      <td>2648</td>\n",
       "      <td>course introduction welcome to algorithms part...</td>\n",
       "    </tr>\n",
       "    <tr>\n",
       "      <th>2</th>\n",
       "      <td>https://www.coursera.org/learn/python-data-ana...</td>\n",
       "      <td>this course will introduce the learner to the...</td>\n",
       "      <td>Intermediate</td>\n",
       "      <td>4.5</td>\n",
       "      <td>3836</td>\n",
       "      <td>week in this week youl get an introduction to ...</td>\n",
       "    </tr>\n",
       "    <tr>\n",
       "      <th>3</th>\n",
       "      <td>https://www.coursera.org/learn/algorithmic-too...</td>\n",
       "      <td>the course covers basic algorithmic technique...</td>\n",
       "      <td>NaN</td>\n",
       "      <td>4.6</td>\n",
       "      <td>2355</td>\n",
       "      <td>welcome welcome to the first module of data st...</td>\n",
       "    </tr>\n",
       "    <tr>\n",
       "      <th>4</th>\n",
       "      <td>https://www.coursera.org/learn/python-data</td>\n",
       "      <td>this course will introduce the core data stru...</td>\n",
       "      <td>NaN</td>\n",
       "      <td>4.8</td>\n",
       "      <td>16116</td>\n",
       "      <td>chapter six strings in this class we pick up w...</td>\n",
       "    </tr>\n",
       "  </tbody>\n",
       "</table>\n",
       "</div>"
      ],
      "text/plain": [
       "                                               index  \\\n",
       "0              https://www.coursera.org/learn/python   \n",
       "1    https://www.coursera.org/learn/algorithms-part1   \n",
       "2  https://www.coursera.org/learn/python-data-ana...   \n",
       "3  https://www.coursera.org/learn/algorithmic-too...   \n",
       "4         https://www.coursera.org/learn/python-data   \n",
       "\n",
       "                                               about         level rating  \\\n",
       "0   this course aims to teach everyone the basics...           NaN    4.8   \n",
       "1   this course covers the essential information ...  Intermediate    4.9   \n",
       "2   this course will introduce the learner to the...  Intermediate    4.5   \n",
       "3   the course covers basic algorithmic technique...           NaN    4.6   \n",
       "4   this course will introduce the core data stru...           NaN    4.8   \n",
       "\n",
       "   rating_count                                           syllabus  \n",
       "0         29620  chapter one why we program these are the cours...  \n",
       "1          2648  course introduction welcome to algorithms part...  \n",
       "2          3836  week in this week youl get an introduction to ...  \n",
       "3          2355  welcome welcome to the first module of data st...  \n",
       "4         16116  chapter six strings in this class we pick up w...  "
      ]
     },
     "execution_count": 4,
     "metadata": {},
     "output_type": "execute_result"
    }
   ],
   "source": [
    "df_final.head()"
   ]
  },
  {
   "cell_type": "code",
   "execution_count": 6,
   "metadata": {
    "collapsed": true
   },
   "outputs": [],
   "source": [
    "stop_words = set(stopwords.words('english'))"
   ]
  },
  {
   "cell_type": "code",
   "execution_count": 7,
   "metadata": {
    "collapsed": true
   },
   "outputs": [],
   "source": [
    "def stemm_stop_words(string):\n",
    "    string = str(string)\n",
    "    tokens = word_tokenize(string)\n",
    "    \n",
    "    ps = PorterStemmer()\n",
    "\n",
    "    filtered_sentence = [w for w in tokens if not w in stop_words]\n",
    "    \n",
    "    stem_sentence = [ps.stem(w) for w in filtered_sentence]\n",
    "    \n",
    "    string = \" \".join(stem_sentence)\n",
    "    return string"
   ]
  },
  {
   "cell_type": "code",
   "execution_count": 8,
   "metadata": {
    "collapsed": true
   },
   "outputs": [],
   "source": [
    "df_final[\"about\"] = df_final[\"about\"].apply(stemm_stop_words)\n",
    "df_final[\"syllabus\"] = df_final[\"syllabus\"].apply(stemm_stop_words)"
   ]
  },
  {
   "cell_type": "code",
   "execution_count": 9,
   "metadata": {
    "collapsed": false
   },
   "outputs": [
    {
     "data": {
      "text/html": [
       "<div>\n",
       "<style scoped>\n",
       "    .dataframe tbody tr th:only-of-type {\n",
       "        vertical-align: middle;\n",
       "    }\n",
       "\n",
       "    .dataframe tbody tr th {\n",
       "        vertical-align: top;\n",
       "    }\n",
       "\n",
       "    .dataframe thead th {\n",
       "        text-align: right;\n",
       "    }\n",
       "</style>\n",
       "<table border=\"1\" class=\"dataframe\">\n",
       "  <thead>\n",
       "    <tr style=\"text-align: right;\">\n",
       "      <th></th>\n",
       "      <th>index</th>\n",
       "      <th>about</th>\n",
       "      <th>level</th>\n",
       "      <th>rating</th>\n",
       "      <th>rating_count</th>\n",
       "      <th>syllabus</th>\n",
       "    </tr>\n",
       "  </thead>\n",
       "  <tbody>\n",
       "    <tr>\n",
       "      <th>0</th>\n",
       "      <td>https://www.coursera.org/learn/python</td>\n",
       "      <td>cours aim teach everyon basic program comput u...</td>\n",
       "      <td>NaN</td>\n",
       "      <td>4.8</td>\n",
       "      <td>29620</td>\n",
       "      <td>chapter one program coursewid materi well firs...</td>\n",
       "    </tr>\n",
       "    <tr>\n",
       "      <th>1</th>\n",
       "      <td>https://www.coursera.org/learn/algorithms-part1</td>\n",
       "      <td>cours cover essenti inform everi seriou progra...</td>\n",
       "      <td>Intermediate</td>\n",
       "      <td>4.9</td>\n",
       "      <td>2648</td>\n",
       "      <td>cours introduct welcom algorithm part video ex...</td>\n",
       "    </tr>\n",
       "    <tr>\n",
       "      <th>2</th>\n",
       "      <td>https://www.coursera.org/learn/python-data-ana...</td>\n",
       "      <td>cours introduc learner basic python program en...</td>\n",
       "      <td>Intermediate</td>\n",
       "      <td>4.5</td>\n",
       "      <td>3836</td>\n",
       "      <td>week week youl get introduct field data scienc...</td>\n",
       "    </tr>\n",
       "    <tr>\n",
       "      <th>3</th>\n",
       "      <td>https://www.coursera.org/learn/algorithmic-too...</td>\n",
       "      <td>cours cover basic algorithm techniqu idea comp...</td>\n",
       "      <td>NaN</td>\n",
       "      <td>4.6</td>\n",
       "      <td>2355</td>\n",
       "      <td>welcom welcom first modul data structur algori...</td>\n",
       "    </tr>\n",
       "    <tr>\n",
       "      <th>4</th>\n",
       "      <td>https://www.coursera.org/learn/python-data</td>\n",
       "      <td>cours introduc core data structur python progr...</td>\n",
       "      <td>NaN</td>\n",
       "      <td>4.8</td>\n",
       "      <td>16116</td>\n",
       "      <td>chapter six string class pick left previou cla...</td>\n",
       "    </tr>\n",
       "  </tbody>\n",
       "</table>\n",
       "</div>"
      ],
      "text/plain": [
       "                                               index  \\\n",
       "0              https://www.coursera.org/learn/python   \n",
       "1    https://www.coursera.org/learn/algorithms-part1   \n",
       "2  https://www.coursera.org/learn/python-data-ana...   \n",
       "3  https://www.coursera.org/learn/algorithmic-too...   \n",
       "4         https://www.coursera.org/learn/python-data   \n",
       "\n",
       "                                               about         level rating  \\\n",
       "0  cours aim teach everyon basic program comput u...           NaN    4.8   \n",
       "1  cours cover essenti inform everi seriou progra...  Intermediate    4.9   \n",
       "2  cours introduc learner basic python program en...  Intermediate    4.5   \n",
       "3  cours cover basic algorithm techniqu idea comp...           NaN    4.6   \n",
       "4  cours introduc core data structur python progr...           NaN    4.8   \n",
       "\n",
       "   rating_count                                           syllabus  \n",
       "0         29620  chapter one program coursewid materi well firs...  \n",
       "1          2648  cours introduct welcom algorithm part video ex...  \n",
       "2          3836  week week youl get introduct field data scienc...  \n",
       "3          2355  welcom welcom first modul data structur algori...  \n",
       "4         16116  chapter six string class pick left previou cla...  "
      ]
     },
     "execution_count": 9,
     "metadata": {},
     "output_type": "execute_result"
    }
   ],
   "source": [
    "df_final.head()"
   ]
  },
  {
   "cell_type": "markdown",
   "metadata": {},
   "source": [
    "## Запись в цсв"
   ]
  },
  {
   "cell_type": "code",
   "execution_count": 10,
   "metadata": {
    "collapsed": true
   },
   "outputs": [],
   "source": [
    "df_final.to_csv(\"coursera.csv\")"
   ]
  },
  {
   "cell_type": "markdown",
   "metadata": {},
   "source": [
    "# kNN модель"
   ]
  },
  {
   "cell_type": "code",
   "execution_count": 6,
   "metadata": {
    "collapsed": false
   },
   "outputs": [],
   "source": [
    "df_final = pd.read_csv('coursera.csv').drop('Unnamed: 0',axis=1)\n",
    "df_stack = pd.read_csv('tidy_questions.csv').drop('Unnamed: 0', axis=1).set_index('Id').dropna()"
   ]
  },
  {
   "cell_type": "code",
   "execution_count": 7,
   "metadata": {
    "collapsed": false
   },
   "outputs": [
    {
     "data": {
      "text/html": [
       "<div>\n",
       "<table border=\"1\" class=\"dataframe\">\n",
       "  <thead>\n",
       "    <tr style=\"text-align: right;\">\n",
       "      <th></th>\n",
       "      <th>Text</th>\n",
       "    </tr>\n",
       "    <tr>\n",
       "      <th>Id</th>\n",
       "      <th></th>\n",
       "    </tr>\n",
       "  </thead>\n",
       "  <tbody>\n",
       "    <tr>\n",
       "      <th>23755195</th>\n",
       "      <td>data export xml file reason use encod special ...</td>\n",
       "    </tr>\n",
       "    <tr>\n",
       "      <th>9441598</th>\n",
       "      <td>specif want gener cryptograph secur random num...</td>\n",
       "    </tr>\n",
       "    <tr>\n",
       "      <th>27978003</th>\n",
       "      <td>develop asp net mvc websit use jqueri ajax req...</td>\n",
       "    </tr>\n",
       "    <tr>\n",
       "      <th>1988012</th>\n",
       "      <td>write client applic queri url confirm user aut...</td>\n",
       "    </tr>\n",
       "    <tr>\n",
       "      <th>12370490</th>\n",
       "      <td>wcf servic host sharepoint retunr list object ...</td>\n",
       "    </tr>\n",
       "  </tbody>\n",
       "</table>\n",
       "</div>"
      ],
      "text/plain": [
       "                                                       Text\n",
       "Id                                                         \n",
       "23755195  data export xml file reason use encod special ...\n",
       "9441598   specif want gener cryptograph secur random num...\n",
       "27978003  develop asp net mvc websit use jqueri ajax req...\n",
       "1988012   write client applic queri url confirm user aut...\n",
       "12370490  wcf servic host sharepoint retunr list object ..."
      ]
     },
     "execution_count": 7,
     "metadata": {},
     "output_type": "execute_result"
    }
   ],
   "source": [
    "df_stack.head()"
   ]
  },
  {
   "cell_type": "code",
   "execution_count": 8,
   "metadata": {
    "collapsed": false
   },
   "outputs": [],
   "source": [
    "df_final['level'] = df_final['level'].fillna('unknown')"
   ]
  },
  {
   "cell_type": "code",
   "execution_count": 9,
   "metadata": {
    "collapsed": false
   },
   "outputs": [
    {
     "data": {
      "text/html": [
       "<div>\n",
       "<table border=\"1\" class=\"dataframe\">\n",
       "  <thead>\n",
       "    <tr style=\"text-align: right;\">\n",
       "      <th></th>\n",
       "      <th>index</th>\n",
       "      <th>about</th>\n",
       "      <th>level</th>\n",
       "      <th>rating</th>\n",
       "      <th>rating_count</th>\n",
       "      <th>syllabus</th>\n",
       "    </tr>\n",
       "  </thead>\n",
       "  <tbody>\n",
       "    <tr>\n",
       "      <th>0</th>\n",
       "      <td>https://www.coursera.org/learn/python</td>\n",
       "      <td>cours aim teach everyon basic program comput u...</td>\n",
       "      <td>unknown</td>\n",
       "      <td>4.8</td>\n",
       "      <td>29620</td>\n",
       "      <td>chapter one program coursewid materi well firs...</td>\n",
       "    </tr>\n",
       "    <tr>\n",
       "      <th>1</th>\n",
       "      <td>https://www.coursera.org/learn/algorithms-part1</td>\n",
       "      <td>cours cover essenti inform everi seriou progra...</td>\n",
       "      <td>Intermediate</td>\n",
       "      <td>4.9</td>\n",
       "      <td>2648</td>\n",
       "      <td>cours introduct welcom algorithm part video ex...</td>\n",
       "    </tr>\n",
       "    <tr>\n",
       "      <th>2</th>\n",
       "      <td>https://www.coursera.org/learn/python-data-ana...</td>\n",
       "      <td>cours introduc learner basic python program en...</td>\n",
       "      <td>Intermediate</td>\n",
       "      <td>4.5</td>\n",
       "      <td>3836</td>\n",
       "      <td>week week youl get introduct field data scienc...</td>\n",
       "    </tr>\n",
       "    <tr>\n",
       "      <th>3</th>\n",
       "      <td>https://www.coursera.org/learn/algorithmic-too...</td>\n",
       "      <td>cours cover basic algorithm techniqu idea comp...</td>\n",
       "      <td>unknown</td>\n",
       "      <td>4.6</td>\n",
       "      <td>2355</td>\n",
       "      <td>welcom welcom first modul data structur algori...</td>\n",
       "    </tr>\n",
       "    <tr>\n",
       "      <th>4</th>\n",
       "      <td>https://www.coursera.org/learn/python-data</td>\n",
       "      <td>cours introduc core data structur python progr...</td>\n",
       "      <td>unknown</td>\n",
       "      <td>4.8</td>\n",
       "      <td>16116</td>\n",
       "      <td>chapter six string class pick left previou cla...</td>\n",
       "    </tr>\n",
       "  </tbody>\n",
       "</table>\n",
       "</div>"
      ],
      "text/plain": [
       "                                               index  \\\n",
       "0              https://www.coursera.org/learn/python   \n",
       "1    https://www.coursera.org/learn/algorithms-part1   \n",
       "2  https://www.coursera.org/learn/python-data-ana...   \n",
       "3  https://www.coursera.org/learn/algorithmic-too...   \n",
       "4         https://www.coursera.org/learn/python-data   \n",
       "\n",
       "                                               about         level rating  \\\n",
       "0  cours aim teach everyon basic program comput u...       unknown    4.8   \n",
       "1  cours cover essenti inform everi seriou progra...  Intermediate    4.9   \n",
       "2  cours introduc learner basic python program en...  Intermediate    4.5   \n",
       "3  cours cover basic algorithm techniqu idea comp...       unknown    4.6   \n",
       "4  cours introduc core data structur python progr...       unknown    4.8   \n",
       "\n",
       "   rating_count                                           syllabus  \n",
       "0         29620  chapter one program coursewid materi well firs...  \n",
       "1          2648  cours introduct welcom algorithm part video ex...  \n",
       "2          3836  week week youl get introduct field data scienc...  \n",
       "3          2355  welcom welcom first modul data structur algori...  \n",
       "4         16116  chapter six string class pick left previou cla...  "
      ]
     },
     "execution_count": 9,
     "metadata": {},
     "output_type": "execute_result"
    }
   ],
   "source": [
    "df_final.head()"
   ]
  },
  {
   "cell_type": "code",
   "execution_count": 10,
   "metadata": {
    "collapsed": true
   },
   "outputs": [],
   "source": [
    "df_final['Text'] = df_final[\"about\"] + df_final[\"syllabus\"]\n",
    "df_final['index'] = df_final['index'] + ' ' + df_final['level'] + ' ' + df_final['rating'].astype('str') + ' ' + df_final['rating_count'].astype('str')\n",
    "df_train = df_final[[\"index\", \"Text\"]]"
   ]
  },
  {
   "cell_type": "code",
   "execution_count": 11,
   "metadata": {
    "collapsed": false
   },
   "outputs": [
    {
     "data": {
      "text/html": [
       "<div>\n",
       "<table border=\"1\" class=\"dataframe\">\n",
       "  <thead>\n",
       "    <tr style=\"text-align: right;\">\n",
       "      <th></th>\n",
       "      <th>index</th>\n",
       "      <th>Text</th>\n",
       "    </tr>\n",
       "  </thead>\n",
       "  <tbody>\n",
       "    <tr>\n",
       "      <th>0</th>\n",
       "      <td>https://www.coursera.org/learn/python unknown ...</td>\n",
       "      <td>cours aim teach everyon basic program comput u...</td>\n",
       "    </tr>\n",
       "    <tr>\n",
       "      <th>1</th>\n",
       "      <td>https://www.coursera.org/learn/algorithms-part...</td>\n",
       "      <td>cours cover essenti inform everi seriou progra...</td>\n",
       "    </tr>\n",
       "    <tr>\n",
       "      <th>2</th>\n",
       "      <td>https://www.coursera.org/learn/python-data-ana...</td>\n",
       "      <td>cours introduc learner basic python program en...</td>\n",
       "    </tr>\n",
       "    <tr>\n",
       "      <th>3</th>\n",
       "      <td>https://www.coursera.org/learn/algorithmic-too...</td>\n",
       "      <td>cours cover basic algorithm techniqu idea comp...</td>\n",
       "    </tr>\n",
       "    <tr>\n",
       "      <th>4</th>\n",
       "      <td>https://www.coursera.org/learn/python-data unk...</td>\n",
       "      <td>cours introduc core data structur python progr...</td>\n",
       "    </tr>\n",
       "  </tbody>\n",
       "</table>\n",
       "</div>"
      ],
      "text/plain": [
       "                                               index  \\\n",
       "0  https://www.coursera.org/learn/python unknown ...   \n",
       "1  https://www.coursera.org/learn/algorithms-part...   \n",
       "2  https://www.coursera.org/learn/python-data-ana...   \n",
       "3  https://www.coursera.org/learn/algorithmic-too...   \n",
       "4  https://www.coursera.org/learn/python-data unk...   \n",
       "\n",
       "                                                Text  \n",
       "0  cours aim teach everyon basic program comput u...  \n",
       "1  cours cover essenti inform everi seriou progra...  \n",
       "2  cours introduc learner basic python program en...  \n",
       "3  cours cover basic algorithm techniqu idea comp...  \n",
       "4  cours introduc core data structur python progr...  "
      ]
     },
     "execution_count": 11,
     "metadata": {},
     "output_type": "execute_result"
    }
   ],
   "source": [
    "df_train.head()"
   ]
  },
  {
   "cell_type": "code",
   "execution_count": 12,
   "metadata": {
    "collapsed": true
   },
   "outputs": [],
   "source": [
    "df_train.set_index('index', drop = True, inplace=True)"
   ]
  },
  {
   "cell_type": "code",
   "execution_count": 13,
   "metadata": {
    "collapsed": false
   },
   "outputs": [
    {
     "data": {
      "text/html": [
       "<div>\n",
       "<table border=\"1\" class=\"dataframe\">\n",
       "  <thead>\n",
       "    <tr style=\"text-align: right;\">\n",
       "      <th></th>\n",
       "      <th>Text</th>\n",
       "    </tr>\n",
       "    <tr>\n",
       "      <th>index</th>\n",
       "      <th></th>\n",
       "    </tr>\n",
       "  </thead>\n",
       "  <tbody>\n",
       "    <tr>\n",
       "      <th>https://www.coursera.org/learn/python unknown 4.8 29620</th>\n",
       "      <td>cours aim teach everyon basic program comput u...</td>\n",
       "    </tr>\n",
       "    <tr>\n",
       "      <th>https://www.coursera.org/learn/algorithms-part1 Intermediate 4.9 2648</th>\n",
       "      <td>cours cover essenti inform everi seriou progra...</td>\n",
       "    </tr>\n",
       "    <tr>\n",
       "      <th>https://www.coursera.org/learn/python-data-analysis Intermediate 4.5 3836</th>\n",
       "      <td>cours introduc learner basic python program en...</td>\n",
       "    </tr>\n",
       "    <tr>\n",
       "      <th>https://www.coursera.org/learn/algorithmic-toolbox unknown 4.6 2355</th>\n",
       "      <td>cours cover basic algorithm techniqu idea comp...</td>\n",
       "    </tr>\n",
       "    <tr>\n",
       "      <th>https://www.coursera.org/learn/python-data unknown 4.8 16116</th>\n",
       "      <td>cours introduc core data structur python progr...</td>\n",
       "    </tr>\n",
       "  </tbody>\n",
       "</table>\n",
       "</div>"
      ],
      "text/plain": [
       "                                                                                                 Text\n",
       "index                                                                                                \n",
       "https://www.coursera.org/learn/python unknown 4...  cours aim teach everyon basic program comput u...\n",
       "https://www.coursera.org/learn/algorithms-part1...  cours cover essenti inform everi seriou progra...\n",
       "https://www.coursera.org/learn/python-data-anal...  cours introduc learner basic python program en...\n",
       "https://www.coursera.org/learn/algorithmic-tool...  cours cover basic algorithm techniqu idea comp...\n",
       "https://www.coursera.org/learn/python-data unkn...  cours introduc core data structur python progr..."
      ]
     },
     "execution_count": 13,
     "metadata": {},
     "output_type": "execute_result"
    }
   ],
   "source": [
    "df_train.head()"
   ]
  },
  {
   "cell_type": "code",
   "execution_count": 14,
   "metadata": {
    "collapsed": true
   },
   "outputs": [],
   "source": [
    "df_train.to_csv('coursera_union.csv')"
   ]
  },
  {
   "cell_type": "code",
   "execution_count": 15,
   "metadata": {
    "collapsed": true
   },
   "outputs": [],
   "source": [
    "df_cnn = pd.concat([df_train, df_stack], axis=0)"
   ]
  },
  {
   "cell_type": "code",
   "execution_count": 16,
   "metadata": {
    "collapsed": true
   },
   "outputs": [],
   "source": [
    "df_cnn.to_csv('coursera_ques.csv')"
   ]
  },
  {
   "cell_type": "code",
   "execution_count": 17,
   "metadata": {
    "collapsed": false
   },
   "outputs": [
    {
     "data": {
      "text/html": [
       "<div>\n",
       "<table border=\"1\" class=\"dataframe\">\n",
       "  <thead>\n",
       "    <tr style=\"text-align: right;\">\n",
       "      <th></th>\n",
       "      <th>Text</th>\n",
       "    </tr>\n",
       "  </thead>\n",
       "  <tbody>\n",
       "    <tr>\n",
       "      <th>24346956</th>\n",
       "      <td>pleas take look let know chang background colo...</td>\n",
       "    </tr>\n",
       "    <tr>\n",
       "      <th>33208055</th>\n",
       "      <td>could two php version differ path server curre...</td>\n",
       "    </tr>\n",
       "    <tr>\n",
       "      <th>14590341</th>\n",
       "      <td>easi get work run littl demo use googl homepag...</td>\n",
       "    </tr>\n",
       "    <tr>\n",
       "      <th>26497549</th>\n",
       "      <td>assign suppos creat rock paper scissor game us...</td>\n",
       "    </tr>\n",
       "    <tr>\n",
       "      <th>20965290</th>\n",
       "      <td>new facebook app develop found fb app develop ...</td>\n",
       "    </tr>\n",
       "    <tr>\n",
       "      <th>42507623</th>\n",
       "      <td>click button mobil chrome blue color appear se...</td>\n",
       "    </tr>\n",
       "    <tr>\n",
       "      <th>7167806</th>\n",
       "      <td>applic sign jar certif mine wan run applic web...</td>\n",
       "    </tr>\n",
       "    <tr>\n",
       "      <th>32203664</th>\n",
       "      <td>alreadi creat splash screen use jqueri fadeout...</td>\n",
       "    </tr>\n",
       "    <tr>\n",
       "      <th>9704650</th>\n",
       "      <td>know question seem imposs sure somebodi help d...</td>\n",
       "    </tr>\n",
       "    <tr>\n",
       "      <th>31632133</th>\n",
       "      <td>want build x data frame r use two vector valu ...</td>\n",
       "    </tr>\n",
       "  </tbody>\n",
       "</table>\n",
       "</div>"
      ],
      "text/plain": [
       "                                                       Text\n",
       "24346956  pleas take look let know chang background colo...\n",
       "33208055  could two php version differ path server curre...\n",
       "14590341  easi get work run littl demo use googl homepag...\n",
       "26497549  assign suppos creat rock paper scissor game us...\n",
       "20965290  new facebook app develop found fb app develop ...\n",
       "42507623  click button mobil chrome blue color appear se...\n",
       "7167806   applic sign jar certif mine wan run applic web...\n",
       "32203664  alreadi creat splash screen use jqueri fadeout...\n",
       "9704650   know question seem imposs sure somebodi help d...\n",
       "31632133  want build x data frame r use two vector valu ..."
      ]
     },
     "execution_count": 17,
     "metadata": {},
     "output_type": "execute_result"
    }
   ],
   "source": [
    "df_cnn.tail(10)"
   ]
  },
  {
   "cell_type": "code",
   "execution_count": 18,
   "metadata": {
    "collapsed": true
   },
   "outputs": [],
   "source": [
    "#Define the TFIDF vectorizer that will be used to process the data\n",
    "tfidf_vectorizer = TfidfVectorizer()\n",
    "tfidf_matrix = tfidf_vectorizer.fit_transform(df_cnn['Text'])\n",
    "tfidf_courses = tfidf_vectorizer.transform(df_train['Text'])\n",
    "tfidf_questions = tfidf_vectorizer.transform(df_stack['Text'])"
   ]
  },
  {
   "cell_type": "code",
   "execution_count": 19,
   "metadata": {
    "collapsed": false
   },
   "outputs": [
    {
     "data": {
      "text/plain": [
       "((288760, 176039), (533, 176039), (288227, 176039))"
      ]
     },
     "execution_count": 19,
     "metadata": {},
     "output_type": "execute_result"
    }
   ],
   "source": [
    "tfidf_matrix.shape, tfidf_courses.shape, tfidf_questions.shape"
   ]
  },
  {
   "cell_type": "code",
   "execution_count": 20,
   "metadata": {
    "collapsed": true
   },
   "outputs": [],
   "source": [
    "nbrs = NearestNeighbors(n_neighbors=10).fit(tfidf_matrix)\n",
    "nbrs_courses = NearestNeighbors(n_neighbors=10).fit(tfidf_courses)\n",
    "nbrs_questions = NearestNeighbors(n_neighbors=10).fit(tfidf_questions)"
   ]
  },
  {
   "cell_type": "code",
   "execution_count": 21,
   "metadata": {
    "collapsed": false
   },
   "outputs": [
    {
     "data": {
      "text/plain": [
       "NearestNeighbors(algorithm='auto', leaf_size=30, metric='minkowski',\n",
       "         metric_params=None, n_jobs=1, n_neighbors=10, p=2, radius=1.0)"
      ]
     },
     "execution_count": 21,
     "metadata": {},
     "output_type": "execute_result"
    }
   ],
   "source": [
    "nbrs"
   ]
  },
  {
   "cell_type": "code",
   "execution_count": 22,
   "metadata": {
    "collapsed": true
   },
   "outputs": [],
   "source": [
    "df_cnn.to_csv('coursera_ques.csv')"
   ]
  },
  {
   "cell_type": "code",
   "execution_count": 23,
   "metadata": {
    "collapsed": false
   },
   "outputs": [
    {
     "data": {
      "text/html": [
       "<div>\n",
       "<table border=\"1\" class=\"dataframe\">\n",
       "  <thead>\n",
       "    <tr style=\"text-align: right;\">\n",
       "      <th></th>\n",
       "      <th>Text</th>\n",
       "    </tr>\n",
       "  </thead>\n",
       "  <tbody>\n",
       "    <tr>\n",
       "      <th>https://www.coursera.org/learn/python unknown 4.8 29620</th>\n",
       "      <td>cours aim teach everyon basic program comput u...</td>\n",
       "    </tr>\n",
       "    <tr>\n",
       "      <th>https://www.coursera.org/learn/algorithms-part1 Intermediate 4.9 2648</th>\n",
       "      <td>cours cover essenti inform everi seriou progra...</td>\n",
       "    </tr>\n",
       "    <tr>\n",
       "      <th>https://www.coursera.org/learn/python-data-analysis Intermediate 4.5 3836</th>\n",
       "      <td>cours introduc learner basic python program en...</td>\n",
       "    </tr>\n",
       "    <tr>\n",
       "      <th>https://www.coursera.org/learn/algorithmic-toolbox unknown 4.6 2355</th>\n",
       "      <td>cours cover basic algorithm techniqu idea comp...</td>\n",
       "    </tr>\n",
       "    <tr>\n",
       "      <th>https://www.coursera.org/learn/python-data unknown 4.8 16116</th>\n",
       "      <td>cours introduc core data structur python progr...</td>\n",
       "    </tr>\n",
       "  </tbody>\n",
       "</table>\n",
       "</div>"
      ],
      "text/plain": [
       "                                                                                                 Text\n",
       "https://www.coursera.org/learn/python unknown 4...  cours aim teach everyon basic program comput u...\n",
       "https://www.coursera.org/learn/algorithms-part1...  cours cover essenti inform everi seriou progra...\n",
       "https://www.coursera.org/learn/python-data-anal...  cours introduc learner basic python program en...\n",
       "https://www.coursera.org/learn/algorithmic-tool...  cours cover basic algorithm techniqu idea comp...\n",
       "https://www.coursera.org/learn/python-data unkn...  cours introduc core data structur python progr..."
      ]
     },
     "execution_count": 23,
     "metadata": {},
     "output_type": "execute_result"
    }
   ],
   "source": [
    "df_cnn.head()"
   ]
  },
  {
   "cell_type": "code",
   "execution_count": 24,
   "metadata": {
    "collapsed": true
   },
   "outputs": [],
   "source": [
    "def get_closest_neighs(name, target='course'):\n",
    "    if target == 'course':\n",
    "        nbrs_local = nbrs_courses\n",
    "    elif target == 'question':\n",
    "        nbrs_local = nbrs_questions\n",
    "    elif target == 'multi':\n",
    "        nbrs_local = nbrs\n",
    "    elif target == \"topic\":\n",
    "        nbrs_local = nbrs_topics\n",
    "    row = df_cnn.index.get_loc(name)\n",
    "    distances, indices = nbrs_local.kneighbors(tfidf_matrix.getrow(row))\n",
    "    indexes_similar = pd.Series(indices.flatten()).map(df_cnn.reset_index()['index'])\n",
    "    result = pd.DataFrame({'distance': distances.flatten(), 'index': indexes_similar})\n",
    "    \n",
    "    return result"
   ]
  },
  {
   "cell_type": "code",
   "execution_count": 25,
   "metadata": {
    "collapsed": false
   },
   "outputs": [
    {
     "ename": "NameError",
     "evalue": "name 'nbrs_topics' is not defined",
     "output_type": "error",
     "traceback": [
      "\u001b[0;31m---------------------------------------------------------------------------\u001b[0m",
      "\u001b[0;31mNameError\u001b[0m                                 Traceback (most recent call last)",
      "\u001b[0;32m<ipython-input-25-7a0ba6867dae>\u001b[0m in \u001b[0;36m<module>\u001b[0;34m()\u001b[0m\n\u001b[0;32m----> 1\u001b[0;31m \u001b[0mpred\u001b[0m \u001b[1;33m=\u001b[0m \u001b[0mget_closest_neighs\u001b[0m\u001b[1;33m(\u001b[0m\u001b[1;34m\"https://www.coursera.org/learn/python\"\u001b[0m\u001b[1;33m,\u001b[0m \u001b[1;34m\"topic\"\u001b[0m\u001b[1;33m)\u001b[0m\u001b[1;33m\u001b[0m\u001b[0m\n\u001b[0m",
      "\u001b[0;32m<ipython-input-24-17c00c30c0c1>\u001b[0m in \u001b[0;36mget_closest_neighs\u001b[0;34m(name, target)\u001b[0m\n\u001b[1;32m      7\u001b[0m         \u001b[0mnbrs_local\u001b[0m \u001b[1;33m=\u001b[0m \u001b[0mnbrs\u001b[0m\u001b[1;33m\u001b[0m\u001b[0m\n\u001b[1;32m      8\u001b[0m     \u001b[1;32melif\u001b[0m \u001b[0mtarget\u001b[0m \u001b[1;33m==\u001b[0m \u001b[1;34m\"topic\"\u001b[0m\u001b[1;33m:\u001b[0m\u001b[1;33m\u001b[0m\u001b[0m\n\u001b[0;32m----> 9\u001b[0;31m         \u001b[0mnbrs_local\u001b[0m \u001b[1;33m=\u001b[0m \u001b[0mnbrs_topics\u001b[0m\u001b[1;33m\u001b[0m\u001b[0m\n\u001b[0m\u001b[1;32m     10\u001b[0m     \u001b[0mrow\u001b[0m \u001b[1;33m=\u001b[0m \u001b[0mdf_cnn\u001b[0m\u001b[1;33m.\u001b[0m\u001b[0mindex\u001b[0m\u001b[1;33m.\u001b[0m\u001b[0mget_loc\u001b[0m\u001b[1;33m(\u001b[0m\u001b[0mname\u001b[0m\u001b[1;33m)\u001b[0m\u001b[1;33m\u001b[0m\u001b[0m\n\u001b[1;32m     11\u001b[0m     \u001b[0mdistances\u001b[0m\u001b[1;33m,\u001b[0m \u001b[0mindices\u001b[0m \u001b[1;33m=\u001b[0m \u001b[0mnbrs_local\u001b[0m\u001b[1;33m.\u001b[0m\u001b[0mkneighbors\u001b[0m\u001b[1;33m(\u001b[0m\u001b[0mtfidf_matrix\u001b[0m\u001b[1;33m.\u001b[0m\u001b[0mgetrow\u001b[0m\u001b[1;33m(\u001b[0m\u001b[0mrow\u001b[0m\u001b[1;33m)\u001b[0m\u001b[1;33m)\u001b[0m\u001b[1;33m\u001b[0m\u001b[0m\n",
      "\u001b[0;31mNameError\u001b[0m: name 'nbrs_topics' is not defined"
     ]
    }
   ],
   "source": [
    "pred = get_closest_neighs(\"https://www.coursera.org/learn/python\", \"topic\")"
   ]
  },
  {
   "cell_type": "code",
   "execution_count": null,
   "metadata": {
    "collapsed": false
   },
   "outputs": [],
   "source": [
    "print(pred.loc[0, \"index\"])"
   ]
  },
  {
   "cell_type": "code",
   "execution_count": null,
   "metadata": {
    "collapsed": false
   },
   "outputs": [],
   "source": [
    "pred"
   ]
  },
  {
   "cell_type": "markdown",
   "metadata": {},
   "source": [
    "# kNN для топиков"
   ]
  },
  {
   "cell_type": "code",
   "execution_count": null,
   "metadata": {
    "collapsed": true
   },
   "outputs": [],
   "source": [
    "df_topics = pd.read_csv(\"df_for_knn_2.csv\", index_col = 'index')\n",
    "df_courses_topics = pd.read_csv(\"coursera_topics.csv\", index_col = \"topic\")"
   ]
  },
  {
   "cell_type": "code",
   "execution_count": null,
   "metadata": {
    "collapsed": true
   },
   "outputs": [],
   "source": [
    "df_courses_topics.drop(\"index\", inplace = True, axis = 1)"
   ]
  },
  {
   "cell_type": "code",
   "execution_count": null,
   "metadata": {
    "collapsed": false
   },
   "outputs": [],
   "source": [
    "df_topics.tail(10)"
   ]
  },
  {
   "cell_type": "code",
   "execution_count": null,
   "metadata": {
    "collapsed": true
   },
   "outputs": [],
   "source": [
    "tfidf_lda = tfidf_vectorizer.fit_transform(df_topics[\"Text\"])\n",
    "tfidf_topics = tfidf_vectorizer.transform(df_courses_topics[\"Text\"])"
   ]
  },
  {
   "cell_type": "code",
   "execution_count": null,
   "metadata": {
    "collapsed": false
   },
   "outputs": [],
   "source": [
    "tfidf_topics.shape"
   ]
  },
  {
   "cell_type": "code",
   "execution_count": null,
   "metadata": {
    "collapsed": true
   },
   "outputs": [],
   "source": [
    "nbrs = NearestNeighbors(n_neighbors=10).fit(tfidf_lda)\n",
    "nbrs_topics = NearestNeighbors(n_neighbors=10).fit(tfidf_topics)"
   ]
  },
  {
   "cell_type": "code",
   "execution_count": null,
   "metadata": {
    "collapsed": true
   },
   "outputs": [],
   "source": [
    "def get_closest_topic(name):\n",
    "    row = df_topics.index.get_loc(name)\n",
    "    distances, indices = nbrs_topics.kneighbors(tfidf_lda.getrow(row))\n",
    "    indexes_similar = pd.Series(indices.flatten()).map(df_topics.reset_index()['index'])\n",
    "    result = pd.DataFrame({'distance': distances.flatten(), 'index': indexes_similar})\n",
    "    \n",
    "    return result"
   ]
  },
  {
   "cell_type": "code",
   "execution_count": null,
   "metadata": {
    "collapsed": false
   },
   "outputs": [],
   "source": [
    "get_closest_topic(26497549)"
   ]
  },
  {
   "cell_type": "code",
   "execution_count": null,
   "metadata": {
    "collapsed": true
   },
   "outputs": [],
   "source": []
  },
  {
   "cell_type": "code",
   "execution_count": null,
   "metadata": {
    "collapsed": true
   },
   "outputs": [],
   "source": []
  }
 ],
 "metadata": {
  "kernelspec": {
   "display_name": "Python 3",
   "language": "python",
   "name": "python3"
  },
  "language_info": {
   "codemirror_mode": {
    "name": "ipython",
    "version": 3
   },
   "file_extension": ".py",
   "mimetype": "text/x-python",
   "name": "python",
   "nbconvert_exporter": "python",
   "pygments_lexer": "ipython3",
   "version": "3.6.0"
  }
 },
 "nbformat": 4,
 "nbformat_minor": 2
}
