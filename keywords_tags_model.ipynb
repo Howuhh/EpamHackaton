{
 "cells": [
  {
   "cell_type": "code",
   "execution_count": 1,
   "metadata": {},
   "outputs": [
    {
     "name": "stderr",
     "output_type": "stream",
     "text": [
      "/home/yas/anaconda3/lib/python3.6/site-packages/IPython/core/interactiveshell.py:2698: DtypeWarning: Columns (0) have mixed types. Specify dtype option on import or set low_memory=False.\n",
      "  interactivity=interactivity, compiler=compiler, result=result)\n",
      "/home/yas/anaconda3/lib/python3.6/site-packages/IPython/core/interactiveshell.py:2698: DtypeWarning: Columns (3,18,19) have mixed types. Specify dtype option on import or set low_memory=False.\n",
      "  interactivity=interactivity, compiler=compiler, result=result)\n"
     ]
    }
   ],
   "source": [
    "import pandas as pd\n",
    "df_qu = pd.read_csv('coursera_ques.csv').set_index('index')\n",
    "posts = pd.read_csv(\"Posts.csv\",  encoding = \"ISO-8859-1\").dropna(subset=['Tags'])[['Id', 'Tags']].values"
   ]
  },
  {
   "cell_type": "code",
   "execution_count": 21,
   "metadata": {},
   "outputs": [
    {
     "data": {
      "text/html": [
       "<div>\n",
       "<style>\n",
       "    .dataframe thead tr:only-child th {\n",
       "        text-align: right;\n",
       "    }\n",
       "\n",
       "    .dataframe thead th {\n",
       "        text-align: left;\n",
       "    }\n",
       "\n",
       "    .dataframe tbody tr th {\n",
       "        vertical-align: top;\n",
       "    }\n",
       "</style>\n",
       "<table border=\"1\" class=\"dataframe\">\n",
       "  <thead>\n",
       "    <tr style=\"text-align: right;\">\n",
       "      <th></th>\n",
       "      <th>Text</th>\n",
       "    </tr>\n",
       "    <tr>\n",
       "      <th>index</th>\n",
       "      <th></th>\n",
       "    </tr>\n",
       "  </thead>\n",
       "  <tbody>\n",
       "    <tr>\n",
       "      <th>https://www.coursera.org/learn/python</th>\n",
       "      <td>cours aim teach everyon basic program comput u...</td>\n",
       "    </tr>\n",
       "    <tr>\n",
       "      <th>https://www.coursera.org/learn/algorithms-part1</th>\n",
       "      <td>cours cover essenti inform everi seriou progra...</td>\n",
       "    </tr>\n",
       "    <tr>\n",
       "      <th>https://www.coursera.org/learn/python-data-analysis</th>\n",
       "      <td>cours introduc learner basic python program en...</td>\n",
       "    </tr>\n",
       "    <tr>\n",
       "      <th>https://www.coursera.org/learn/algorithmic-toolbox</th>\n",
       "      <td>cours cover basic algorithm techniqu idea comp...</td>\n",
       "    </tr>\n",
       "    <tr>\n",
       "      <th>https://www.coursera.org/learn/python-data</th>\n",
       "      <td>cours introduc core data structur python progr...</td>\n",
       "    </tr>\n",
       "  </tbody>\n",
       "</table>\n",
       "</div>"
      ],
      "text/plain": [
       "                                                                                                 Text\n",
       "index                                                                                                \n",
       "https://www.coursera.org/learn/python               cours aim teach everyon basic program comput u...\n",
       "https://www.coursera.org/learn/algorithms-part1     cours cover essenti inform everi seriou progra...\n",
       "https://www.coursera.org/learn/python-data-anal...  cours introduc learner basic python program en...\n",
       "https://www.coursera.org/learn/algorithmic-toolbox  cours cover basic algorithm techniqu idea comp...\n",
       "https://www.coursera.org/learn/python-data          cours introduc core data structur python progr..."
      ]
     },
     "execution_count": 21,
     "metadata": {},
     "output_type": "execute_result"
    }
   ],
   "source": [
    "df_qu.head()"
   ]
  },
  {
   "cell_type": "code",
   "execution_count": 3,
   "metadata": {
    "collapsed": true
   },
   "outputs": [],
   "source": [
    "from sklearn.neighbors import NearestNeighbors"
   ]
  },
  {
   "cell_type": "code",
   "execution_count": 4,
   "metadata": {
    "collapsed": true
   },
   "outputs": [],
   "source": [
    "idx = 533"
   ]
  },
  {
   "cell_type": "code",
   "execution_count": 5,
   "metadata": {
    "collapsed": true
   },
   "outputs": [],
   "source": [
    "courses = df_qu.values[:idx,:]\n",
    "questions = df_qu.values[idx:, :]"
   ]
  },
  {
   "cell_type": "code",
   "execution_count": 6,
   "metadata": {
    "collapsed": true
   },
   "outputs": [],
   "source": [
    "tags_df = pd.read_csv('Tags.csv',  encoding = \"ISO-8859-1\" )\n",
    "tags = tags_df.sort_values('Count', ascending=False)['TagName'].values[:500]"
   ]
  },
  {
   "cell_type": "code",
   "execution_count": 7,
   "metadata": {},
   "outputs": [
    {
     "data": {
      "text/plain": [
       "(500,)"
      ]
     },
     "execution_count": 7,
     "metadata": {},
     "output_type": "execute_result"
    }
   ],
   "source": [
    "tags.shape"
   ]
  },
  {
   "cell_type": "code",
   "execution_count": 8,
   "metadata": {
    "collapsed": true
   },
   "outputs": [],
   "source": [
    "tags_indexes = dict([(tag, index) for index, tag in enumerate(tags)])"
   ]
  },
  {
   "cell_type": "code",
   "execution_count": 9,
   "metadata": {
    "collapsed": true
   },
   "outputs": [],
   "source": [
    "import numpy as np\n",
    "from scipy.sparse import csr_matrix"
   ]
  },
  {
   "cell_type": "code",
   "execution_count": 10,
   "metadata": {
    "collapsed": true
   },
   "outputs": [],
   "source": [
    "array = np.zeros((courses.shape[0],tags.shape[0]*2) , dtype=np.int8)\n",
    "for i in range(courses.shape[0]):\n",
    "    for j in range(tags.shape[0]):\n",
    "        if tags[j] in courses[i, 1]:\n",
    "            array[i, tags_indexes[tags[j]]] = 1\n",
    "            array[i, tags_indexes[tags[j]] + tags.shape[0]] = 1"
   ]
  },
  {
   "cell_type": "code",
   "execution_count": 11,
   "metadata": {
    "collapsed": true
   },
   "outputs": [],
   "source": [
    "courses_df = pd.DataFrame(array)\n",
    "courses_df['id'] = courses[:,0]\n",
    "courses_df.set_index('id',inplace=True)"
   ]
  },
  {
   "cell_type": "code",
   "execution_count": 12,
   "metadata": {
    "collapsed": true
   },
   "outputs": [],
   "source": [
    "array1 = np.zeros((questions.shape[0],tags.shape[0]*2) , dtype=np.int8)\n",
    "for i in range(questions.shape[0]):\n",
    "    for j in range(tags.shape[0]):\n",
    "        if tags[j] in questions[i, 1]:\n",
    "            array1[i, tags_indexes[tags[j]]] = 1\n",
    "        if tags[j] in posts[i, 1]:\n",
    "            array1[i, tags_indexes[tags[j]] + tags.shape[0]] = 1"
   ]
  },
  {
   "cell_type": "code",
   "execution_count": 13,
   "metadata": {
    "collapsed": true
   },
   "outputs": [],
   "source": [
    "questions_df = pd.DataFrame(array1)\n",
    "questions_df['id'] = questions[:,0]\n",
    "questions_df.set_index('id',inplace=True)"
   ]
  },
  {
   "cell_type": "code",
   "execution_count": 14,
   "metadata": {
    "collapsed": true
   },
   "outputs": [],
   "source": [
    "union = csr_matrix(pd.concat([courses_df, questions_df],axis=0))\n",
    "questions_df = csr_matrix(questions_df)\n",
    "courses_df = csr_matrix(courses_df)"
   ]
  },
  {
   "cell_type": "code",
   "execution_count": 15,
   "metadata": {
    "collapsed": true
   },
   "outputs": [],
   "source": [
    "tags = None\n",
    "tags_indexes = None\n",
    "array = None\n",
    "array1 = None"
   ]
  },
  {
   "cell_type": "code",
   "execution_count": 16,
   "metadata": {},
   "outputs": [
    {
     "data": {
      "text/plain": [
       "28"
      ]
     },
     "execution_count": 16,
     "metadata": {},
     "output_type": "execute_result"
    }
   ],
   "source": [
    "import gc\n",
    "gc.collect()"
   ]
  },
  {
   "cell_type": "code",
   "execution_count": 29,
   "metadata": {
    "collapsed": true
   },
   "outputs": [],
   "source": [
    "nbrs = NearestNeighbors(n_neighbors=10).fit(union)\n",
    "nbrs_courses = NearestNeighbors(n_neighbors=10).fit(courses_df)\n",
    "nbrs_questions = NearestNeighbors(n_neighbors=10).fit(questions_df)"
   ]
  },
  {
   "cell_type": "code",
   "execution_count": 23,
   "metadata": {
    "collapsed": true
   },
   "outputs": [],
   "source": [
    "def get_closest_neighs(name, target='course'):\n",
    "    if target == 'course':\n",
    "        nbrs_local = nbrs_courses\n",
    "    elif target == 'question':\n",
    "        nbrs_local = nbrs_questions\n",
    "    elif target == 'multi':\n",
    "        nbrs_local = nbrs\n",
    "    row = df_qu.index.get_loc(name)\n",
    "    distances, indices = nbrs_local.kneighbors(union.getrow(row))\n",
    "    indexes_similar = pd.Series(indices.flatten()).map(df_qu.reset_index()['index'])\n",
    "    result = pd.DataFrame({'distance': distances.flatten(), 'index': indexes_similar})\n",
    "    \n",
    "    return result"
   ]
  },
  {
   "cell_type": "code",
   "execution_count": 26,
   "metadata": {
    "collapsed": true
   },
   "outputs": [],
   "source": [
    "pred = get_closest_neighs(\"44698627\", \"course\")"
   ]
  },
  {
   "cell_type": "code",
   "execution_count": 30,
   "metadata": {},
   "outputs": [
    {
     "data": {
      "text/html": [
       "<div>\n",
       "<style>\n",
       "    .dataframe thead tr:only-child th {\n",
       "        text-align: right;\n",
       "    }\n",
       "\n",
       "    .dataframe thead th {\n",
       "        text-align: left;\n",
       "    }\n",
       "\n",
       "    .dataframe tbody tr th {\n",
       "        vertical-align: top;\n",
       "    }\n",
       "</style>\n",
       "<table border=\"1\" class=\"dataframe\">\n",
       "  <thead>\n",
       "    <tr style=\"text-align: right;\">\n",
       "      <th></th>\n",
       "      <th>distance</th>\n",
       "      <th>index</th>\n",
       "    </tr>\n",
       "  </thead>\n",
       "  <tbody>\n",
       "    <tr>\n",
       "      <th>0</th>\n",
       "      <td>3.872983</td>\n",
       "      <td>https://www.coursera.org/learn/galaxy-project</td>\n",
       "    </tr>\n",
       "    <tr>\n",
       "      <th>1</th>\n",
       "      <td>3.872983</td>\n",
       "      <td>https://www.coursera.org/learn/cyber-security-...</td>\n",
       "    </tr>\n",
       "    <tr>\n",
       "      <th>2</th>\n",
       "      <td>4.123106</td>\n",
       "      <td>https://www.coursera.org/learn/ui-design-capstone</td>\n",
       "    </tr>\n",
       "    <tr>\n",
       "      <th>3</th>\n",
       "      <td>4.123106</td>\n",
       "      <td>https://www.coursera.org/learn/cloud-computing...</td>\n",
       "    </tr>\n",
       "    <tr>\n",
       "      <th>4</th>\n",
       "      <td>4.123106</td>\n",
       "      <td>https://www.coursera.org/learn/digital-democracy</td>\n",
       "    </tr>\n",
       "    <tr>\n",
       "      <th>5</th>\n",
       "      <td>4.123106</td>\n",
       "      <td>https://www.coursera.org/learn/wireless-commun...</td>\n",
       "    </tr>\n",
       "    <tr>\n",
       "      <th>6</th>\n",
       "      <td>4.358899</td>\n",
       "      <td>https://www.coursera.org/learn/game-design</td>\n",
       "    </tr>\n",
       "    <tr>\n",
       "      <th>7</th>\n",
       "      <td>4.358899</td>\n",
       "      <td>https://www.coursera.org/learn/recommender-met...</td>\n",
       "    </tr>\n",
       "    <tr>\n",
       "      <th>8</th>\n",
       "      <td>4.358899</td>\n",
       "      <td>https://www.coursera.org/learn/android-program...</td>\n",
       "    </tr>\n",
       "    <tr>\n",
       "      <th>9</th>\n",
       "      <td>4.582576</td>\n",
       "      <td>https://www.coursera.org/learn/r-capstone</td>\n",
       "    </tr>\n",
       "  </tbody>\n",
       "</table>\n",
       "</div>"
      ],
      "text/plain": [
       "   distance                                              index\n",
       "0  3.872983      https://www.coursera.org/learn/galaxy-project\n",
       "1  3.872983  https://www.coursera.org/learn/cyber-security-...\n",
       "2  4.123106  https://www.coursera.org/learn/ui-design-capstone\n",
       "3  4.123106  https://www.coursera.org/learn/cloud-computing...\n",
       "4  4.123106   https://www.coursera.org/learn/digital-democracy\n",
       "5  4.123106  https://www.coursera.org/learn/wireless-commun...\n",
       "6  4.358899         https://www.coursera.org/learn/game-design\n",
       "7  4.358899  https://www.coursera.org/learn/recommender-met...\n",
       "8  4.358899  https://www.coursera.org/learn/android-program...\n",
       "9  4.582576          https://www.coursera.org/learn/r-capstone"
      ]
     },
     "execution_count": 30,
     "metadata": {},
     "output_type": "execute_result"
    }
   ],
   "source": [
    "pred"
   ]
  },
  {
   "cell_type": "code",
   "execution_count": 55,
   "metadata": {},
   "outputs": [
    {
     "data": {
      "text/plain": [
       "4"
      ]
     },
     "execution_count": 55,
     "metadata": {},
     "output_type": "execute_result"
    }
   ],
   "source": []
  },
  {
   "cell_type": "code",
   "execution_count": 56,
   "metadata": {},
   "outputs": [
    {
     "data": {
      "text/plain": [
       "{'author',\n",
       " 'ca',\n",
       " 'case',\n",
       " 'client',\n",
       " 'com',\n",
       " 'confirm',\n",
       " 'design',\n",
       " 'get',\n",
       " 'like',\n",
       " 'ssl',\n",
       " 'string',\n",
       " 'system',\n",
       " 'text',\n",
       " 'url'}"
      ]
     },
     "execution_count": 56,
     "metadata": {},
     "output_type": "execute_result"
    }
   ],
   "source": []
  },
  {
   "cell_type": "code",
   "execution_count": null,
   "metadata": {
    "collapsed": true
   },
   "outputs": [],
   "source": []
  }
 ],
 "metadata": {
  "kernelspec": {
   "display_name": "Python 3",
   "language": "python",
   "name": "python3"
  },
  "language_info": {
   "codemirror_mode": {
    "name": "ipython",
    "version": 3
   },
   "file_extension": ".py",
   "mimetype": "text/x-python",
   "name": "python",
   "nbconvert_exporter": "python",
   "pygments_lexer": "ipython3",
   "version": "3.6.3"
  }
 },
 "nbformat": 4,
 "nbformat_minor": 2
}
