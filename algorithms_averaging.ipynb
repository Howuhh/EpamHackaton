{
 "cells": [
  {
   "cell_type": "code",
   "execution_count": 37,
   "metadata": {
    "collapsed": false
   },
   "outputs": [],
   "source": [
    "import pandas as pd\n",
    "import numpy as np\n",
    "tqid = [0, 1, 2]\n",
    "y1 = [1, 2, 4]\n",
    "y2 = [2, 4, 6]\n",
    "y3 = [4, 8, 8]\n",
    "y4 = [2, 4, 6]\n",
    "dfa = pd.DataFrame({\"qid\": tqid, \"y1\" : y1, \"y2\" : y2, \"y3\" : y3, \"y4\" : y4})\n",
    "z1 = [2, 3, 4]\n",
    "z2 = [2, 3, 6]\n",
    "z3 = [2, 4, 8]\n",
    "z4 = [2, 5, 6]\n",
    "dfb = pd.DataFrame({\"qid\": tqid, \"y1\" : z1, \"y2\" : z2, \"y3\" : z3, \"y4\" : z4})\n"
   ]
  },
  {
   "cell_type": "code",
   "execution_count": 94,
   "metadata": {
    "collapsed": false
   },
   "outputs": [],
   "source": [
    "from sklearn.preprocessing import StandardScaler\n",
    "def get_scaled_from_df(df):\n",
    "    distances = np.array(df.values[:, 1:], dtype = float)\n",
    "    distances = distances.T\n",
    "    scaler = StandardScaler()\n",
    "    scaler.fit(distances)\n",
    "    return scaler.transform(distances).T\n",
    "\n",
    "def get_averaging_from_df(dfa, dfb):\n",
    "    return (get_scaled_from_df(dfa) + get_scaled_from_df(dfb)) / 2\n",
    "\n",
    "def scale_dfs(dfa, dfb):\n",
    "    print(dfa.values[:, 0])\n",
    "    return pd.DataFrame(columns = dfa.columns.values, data=np.hstack([np.array([dfa.values[:, 0]], dtype=str).T, get_averaging_from_df(dfa, dfb)]))"
   ]
  },
  {
   "cell_type": "code",
   "execution_count": 95,
   "metadata": {
    "collapsed": false
   },
   "outputs": [
    {
     "name": "stdout",
     "output_type": "stream",
     "text": [
      "[[-1.14707867 -0.22941573  1.60591014 -0.22941573]\n",
      " [-1.14707867 -0.22941573  1.60591014 -0.22941573]\n",
      " [-1.41421356  0.          1.41421356  0.        ]]\n",
      "[[ 0.          0.          0.          0.        ]\n",
      " [-0.90453403 -0.90453403  0.30151134  1.50755672]\n",
      " [-1.41421356  0.          1.41421356  0.        ]]\n"
     ]
    },
    {
     "data": {
      "text/plain": [
       "array([[-0.57353933, -0.11470787,  0.80295507, -0.11470787],\n",
       "       [-1.02580635, -0.56697488,  0.95371074,  0.63907049],\n",
       "       [-1.41421356,  0.        ,  1.41421356,  0.        ]])"
      ]
     },
     "execution_count": 95,
     "metadata": {},
     "output_type": "execute_result"
    }
   ],
   "source": [
    "print(get_scaled_from_df(dfa))\n",
    "print(get_scaled_from_df(dfb))\n",
    "\n",
    "get_averaging_from_df(dfa, dfb)"
   ]
  }
 ],
 "metadata": {
  "kernelspec": {
   "display_name": "Python 3",
   "language": "python",
   "name": "python3"
  },
  "language_info": {
   "codemirror_mode": {
    "name": "ipython",
    "version": 3
   },
   "file_extension": ".py",
   "mimetype": "text/x-python",
   "name": "python",
   "nbconvert_exporter": "python",
   "pygments_lexer": "ipython3",
   "version": "3.6.0"
  }
 },
 "nbformat": 4,
 "nbformat_minor": 2
}
