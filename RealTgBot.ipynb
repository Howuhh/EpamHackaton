{
 "cells": [
  {
   "cell_type": "code",
   "execution_count": 4,
   "metadata": {
    "collapsed": false
   },
   "outputs": [
    {
     "data": {
      "text/plain": [
       "<queue.Queue at 0x4457898>"
      ]
     },
     "execution_count": 4,
     "metadata": {},
     "output_type": "execute_result"
    },
    {
     "name": "stdout",
     "output_type": "stream",
     "text": [
      "getting random\n",
      "id got\n",
      "random got\n"
     ]
    }
   ],
   "source": [
    "debug_tmp = \"\"\n",
    "\n",
    "import random\n",
    "import pandas as pd\n",
    "def get_qid(solink):\n",
    "    return solink.split(\"/\")[4]\n",
    "pref = \"data/NLP_dataset_final/\"\n",
    "\n",
    "courses_links_csv = pref + \"courses_links\" + debug_tmp + \".csv\"\n",
    "\n",
    "courses_links_csv = 'tolinksreal.csv'\n",
    "\n",
    "def c_link_by_qid(solink):\n",
    "    qid = get_qid(solink)\n",
    "    link = \"\"\n",
    "    with open(courses_links_csv) as courses_links_df:\n",
    "        for line in courses_links_df.readlines():\n",
    "            x, lnk, theqid = line.split(\",\")\n",
    "            qid = qid.strip()\n",
    "            theqid = theqid.strip()\n",
    "            if (theqid == str(qid)):\n",
    "                link = lnk\n",
    "    link = link.strip()\n",
    "    if (link == \"\"):\n",
    "        return \"Not found\"\n",
    "    return link.strip()\n",
    "\n",
    "def get_random_id():\n",
    "    num_lines = sum(1 for line in open(courses_links_csv))\n",
    "    r = random.randrange(0, num_lines)\n",
    "    for i, line in enumerate(open(courses_links_csv)):\n",
    "        if i == r:\n",
    "            return line.split(\",\")[2].strip()\n",
    "    \n",
    "\n",
    "from telegram.ext import Updater\n",
    "updater = Updater(token='473606748:AAEQecsSQ3Xk6Cwl-yBgTcV1juIV0Fj5mCY')\n",
    "def start(bot, update):\n",
    "    res = \"examples\\n\"\n",
    "    with open(courses_links_csv) as courses_links_df:\n",
    "        count = 0\n",
    "        for line in courses_links_df.readlines():\n",
    "            count += 1\n",
    "            if count > 5:\n",
    "                break\n",
    "            x, link, qid = line.split(\",\")\n",
    "            res += \"https://stackoverflow.com/questions/\" + qid + '\\n'\n",
    "    bot.send_message(chat_id=update.message.chat_id, text=res)\n",
    "dispatcher = updater.dispatcher\n",
    "import logging\n",
    "logging.basicConfig(format='%(asctime)s - %(name)s - %(levelname)s - %(message)s',\n",
    "                level=logging.INFO)\n",
    "from telegram.ext import CommandHandler\n",
    "start_handler = CommandHandler('start', start)\n",
    "dispatcher.add_handler(start_handler)\n",
    "\n",
    "def echo(bot, update):\n",
    "    bot.send_message(chat_id=update.message.chat_id, text=c_link_by_qid(update.message.text))\n",
    "    \n",
    "def random_links(bot, update):\n",
    "    print('getting random')\n",
    "    rid = get_random_id()\n",
    "    print('id got')\n",
    "    res = \"\"\n",
    "    res += \"https://stackoverflow.com/questions/\" + rid + '/\\n'\n",
    "    cour = c_link_by_qid(res)\n",
    "    print('random got')\n",
    "    bot.send_message(chat_id=update.message.chat_id, text=res)\n",
    "    bot.send_message(chat_id=update.message.chat_id, text=cour)\n",
    "    \n",
    "start_handler = CommandHandler('random', random_links)\n",
    "dispatcher.add_handler(start_handler)\n",
    "\n",
    "from telegram.ext import MessageHandler, Filters\n",
    "echo_handler = MessageHandler(Filters.text, echo)\n",
    "dispatcher.add_handler(echo_handler)\n",
    "\n",
    "updater.start_polling()\n"
   ]
  },
  {
   "cell_type": "code",
   "execution_count": 2,
   "metadata": {
    "collapsed": false
   },
   "outputs": [
    {
     "data": {
      "text/plain": [
       "5"
      ]
     },
     "execution_count": 2,
     "metadata": {},
     "output_type": "execute_result"
    }
   ],
   "source": [
    "5\n"
   ]
  },
  {
   "cell_type": "code",
   "execution_count": 3,
   "metadata": {
    "collapsed": false
   },
   "outputs": [
    {
     "ename": "AttributeError",
     "evalue": "module 'random' has no attribute 'next'",
     "output_type": "error",
     "traceback": [
      "\u001b[0;31m---------------------------------------------------------------------------\u001b[0m",
      "\u001b[0;31mAttributeError\u001b[0m                            Traceback (most recent call last)",
      "\u001b[0;32m<ipython-input-3-30e1dbde30a5>\u001b[0m in \u001b[0;36m<module>\u001b[0;34m()\u001b[0m\n\u001b[0;32m----> 1\u001b[0;31m \u001b[0mrandom\u001b[0m\u001b[1;33m.\u001b[0m\u001b[0mnext\u001b[0m\u001b[1;33m(\u001b[0m\u001b[1;33m)\u001b[0m\u001b[1;33m\u001b[0m\u001b[0m\n\u001b[0m",
      "\u001b[0;31mAttributeError\u001b[0m: module 'random' has no attribute 'next'"
     ]
    }
   ],
   "source": [
    "random.next()"
   ]
  },
  {
   "cell_type": "code",
   "execution_count": null,
   "metadata": {
    "collapsed": true
   },
   "outputs": [],
   "source": []
  }
 ],
 "metadata": {
  "kernelspec": {
   "display_name": "Python 3",
   "language": "python",
   "name": "python3"
  }
 },
 "nbformat": 4,
 "nbformat_minor": 2
}
