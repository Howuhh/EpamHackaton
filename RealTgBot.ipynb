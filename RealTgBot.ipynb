{
 "cells": [
  {
   "cell_type": "code",
   "execution_count": 1,
   "metadata": {
    "collapsed": false
   },
   "outputs": [
    {
     "data": {
      "text/plain": [
       "<queue.Queue at 0x8dc2588>"
      ]
     },
     "execution_count": 1,
     "metadata": {},
     "output_type": "execute_result"
    },
    {
     "name": "stderr",
     "output_type": "stream",
     "text": [
      "2017-12-02 14:47:22,739 - telegram.ext.dispatcher - WARNING - A TelegramError was raised while processing the Update\n"
     ]
    },
    {
     "name": "stdout",
     "output_type": "stream",
     "text": [
      "here\n",
      "here\n"
     ]
    }
   ],
   "source": [
    "import random\n",
    "import pandas as pd\n",
    "def get_qid(solink):\n",
    "    return solink.split(\"/\")[4]\n",
    "pref = \"data/NLP_dataset_final/\"\n",
    "courses_links_csv = pref + \"courses_links.csv\"\n",
    "qid_to_courseid_csv = pref + \"question_to_course.csv\"\n",
    "\n",
    "def c_link_by_qid(solink):\n",
    "    _qid = get_qid(solink)\n",
    "    courseid = \"\"\n",
    "    with open(qid_to_courseid_csv) as qid_to_courseid_df:\n",
    "        for line in qid_to_courseid_df.readlines():\n",
    "            qid, cid = line.split(\",\")\n",
    "            if (qid == str(_qid)):\n",
    "                courseid = cid\n",
    "    courseid = courseid.strip()\n",
    "    link = \"\"\n",
    "    with open(courses_links_csv) as courses_links_df:\n",
    "        for line in courses_links_df.readlines():\n",
    "            cid, lnk = line.split(\",\")\n",
    "            if (cid == str(courseid)):\n",
    "                link = lnk\n",
    "    return link.strip()\n",
    "\n",
    "from telegram.ext import Updater\n",
    "updater = Updater(token='424268636:AAECue4wGOmY5VQm40DCe5ZC7ENzGmuMGHU')\n",
    "def start(bot, update):\n",
    "    res = \"examples\\n\"\n",
    "    with open(qid_to_courseid_csv) as qid_to_courseid_df:\n",
    "        for line in qid_to_courseid_df.readlines():\n",
    "            qid, cid = line.split(\",\")\n",
    "            res += \"https://stackoverflow.com/questions/\" + qid + '\\n'\n",
    "    bot.send_message(chat_id=update.message.chat_id, text=res)\n",
    "dispatcher = updater.dispatcher\n",
    "import logging\n",
    "logging.basicConfig(format='%(asctime)s - %(name)s - %(levelname)s - %(message)s',\n",
    "                level=logging.INFO)\n",
    "from telegram.ext import CommandHandler\n",
    "start_handler = CommandHandler('start', start)\n",
    "dispatcher.add_handler(start_handler)\n",
    "\n",
    "def echo(bot, update):\n",
    "    print('here')\n",
    "    bot.send_message(chat_id=update.message.chat_id, text=c_link_by_qid(update.message.text))\n",
    "from telegram.ext import MessageHandler, Filters\n",
    "echo_handler = MessageHandler(Filters.text, echo)\n",
    "dispatcher.add_handler(echo_handler)\n",
    "\n",
    "updater.start_polling()\n"
   ]
  },
  {
   "cell_type": "code",
   "execution_count": null,
   "metadata": {
    "collapsed": true
   },
   "outputs": [],
   "source": []
  }
 ],
 "metadata": {
  "kernelspec": {
   "display_name": "Python 3",
   "language": "python",
   "name": "python3"
  },
  "language_info": {
   "codemirror_mode": {
    "name": "ipython",
    "version": 3
   },
   "file_extension": ".py",
   "mimetype": "text/x-python",
   "name": "python",
   "nbconvert_exporter": "python",
   "pygments_lexer": "ipython3",
   "version": "3.6.0"
  }
 },
 "nbformat": 4,
 "nbformat_minor": 2
}
