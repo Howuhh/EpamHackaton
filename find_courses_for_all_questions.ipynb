{
 "cells": [
  {
   "cell_type": "code",
   "execution_count": 55,
   "metadata": {
    "collapsed": false
   },
   "outputs": [
    {
     "data": {
      "text/html": [
       "<div>\n",
       "<table border=\"1\" class=\"dataframe\">\n",
       "  <thead>\n",
       "    <tr style=\"text-align: right;\">\n",
       "      <th></th>\n",
       "      <th>Id</th>\n",
       "      <th>Tags</th>\n",
       "    </tr>\n",
       "  </thead>\n",
       "  <tbody>\n",
       "    <tr>\n",
       "      <th>0</th>\n",
       "      <td>23755195</td>\n",
       "      <td>php  xml  zend-framework</td>\n",
       "    </tr>\n",
       "    <tr>\n",
       "      <th>1</th>\n",
       "      <td>9441598</td>\n",
       "      <td>java  android  security  openssl</td>\n",
       "    </tr>\n",
       "    <tr>\n",
       "      <th>2</th>\n",
       "      <td>27978003</td>\n",
       "      <td>asp.net-mvc  seo</td>\n",
       "    </tr>\n",
       "    <tr>\n",
       "      <th>3</th>\n",
       "      <td>1988012</td>\n",
       "      <td>.net  ssl  httpwebrequest</td>\n",
       "    </tr>\n",
       "    <tr>\n",
       "      <th>4</th>\n",
       "      <td>12370490</td>\n",
       "      <td>wcf  sharepoint  datajs</td>\n",
       "    </tr>\n",
       "  </tbody>\n",
       "</table>\n",
       "</div>"
      ],
      "text/plain": [
       "         Id                                Tags\n",
       "0  23755195           php  xml  zend-framework \n",
       "1   9441598   java  android  security  openssl \n",
       "2  27978003                   asp.net-mvc  seo \n",
       "3   1988012          .net  ssl  httpwebrequest \n",
       "4  12370490            wcf  sharepoint  datajs "
      ]
     },
     "execution_count": 55,
     "metadata": {},
     "output_type": "execute_result"
    }
   ],
   "source": [
    "debug_tmp = \"\"\n",
    "\n",
    "import pandas as pd\n",
    "from nltk.corpus import stopwords\n",
    "from nltk.tokenize import word_tokenize\n",
    "\n",
    "pref = pref = \"data/NLP_dataset_final/\"\n",
    "questions_df = pd.read_csv(pref + \"questions_tags\" + debug_tmp + \".csv\")\n",
    "courses_desc_df = pd.read_csv(pref + \"courses_desc\" + debug_tmp + \".csv\")\n",
    "res_file = pref + \"courses_links\" + debug_tmp + \".csv\"\n",
    "questions_df.drop('Unnamed: 0', axis=1, inplace=True)\n",
    "questions_df.head()"
   ]
  },
  {
   "cell_type": "code",
   "execution_count": 56,
   "metadata": {
    "collapsed": true
   },
   "outputs": [],
   "source": [
    "def throw_empties(s):\n",
    "    return [i for i in s if i != \"\"]"
   ]
  },
  {
   "cell_type": "code",
   "execution_count": 57,
   "metadata": {
    "collapsed": false,
    "scrolled": false
   },
   "outputs": [],
   "source": [
    "from tqdm import tqdm_notebook\n",
    "\n",
    "def get_questions_df():\n",
    "    quest_ids = []\n",
    "    course_links = []\n",
    "    quesm = questions_df.values\n",
    "    courm = courses_desc_df.values\n",
    "    \n",
    "    for qi in tqdm_notebook(range(quesm.shape[0])):\n",
    "        tags = throw_empties(quesm[qi][1].split(\" \"))\n",
    "        mx = 0\n",
    "        best_course = \"\"\n",
    "        c = 0\n",
    "        for ci in range(courm.shape[0]):\n",
    "            c += 1\n",
    "            now = 0\n",
    "            for tag in tags:\n",
    "                if (isinstance(courm[ci][1], float)):\n",
    "                    continue\n",
    "                if tag in courm[ci][1]:\n",
    "                    now += 1\n",
    "            if now > mx:\n",
    "                mx = now\n",
    "                best_course = courm[ci][0]\n",
    "        quest_ids.append(quesm[qi][0])\n",
    "        course_links.append(best_course)\n",
    "    resdf = pd.DataFrame({\"qid\" : quest_ids, \"link\": course_links})\n",
    "    resdf.to_csv(res_file, sep=',', encoding='utf-8')\n",
    "                          \n",
    "    "
   ]
  },
  {
   "cell_type": "code",
   "execution_count": 58,
   "metadata": {
    "collapsed": false
   },
   "outputs": [
    {
     "name": "stdout",
     "output_type": "stream",
     "text": [
      "\n"
     ]
    }
   ],
   "source": [
    "get_questions_df()"
   ]
  },
  {
   "cell_type": "code",
   "execution_count": 8,
   "metadata": {
    "collapsed": false
   },
   "outputs": [],
   "source": [
    "from tqdm import tqdm_notebook\n"
   ]
  },
  {
   "cell_type": "code",
   "execution_count": null,
   "metadata": {
    "collapsed": true
   },
   "outputs": [],
   "source": []
  }
 ],
 "metadata": {
  "kernelspec": {
   "display_name": "Python 3",
   "language": "python",
   "name": "python3"
  },
  "language_info": {
   "codemirror_mode": {
    "name": "ipython",
    "version": 3
   },
   "file_extension": ".py",
   "mimetype": "text/x-python",
   "name": "python",
   "nbconvert_exporter": "python",
   "pygments_lexer": "ipython3",
   "version": "3.6.0"
  },
  "widgets": {
   "state": {
    "60e47a42c9cf4190890aefe74c45f9ff": {
     "views": [
      {
       "cell_index": 3
      }
     ]
    }
   },
   "version": "1.2.0"
  }
 },
 "nbformat": 4,
 "nbformat_minor": 2
}
