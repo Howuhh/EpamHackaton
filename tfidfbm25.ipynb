{
 "cells": [
  {
   "cell_type": "code",
   "execution_count": 19,
   "metadata": {
    "collapsed": false
   },
   "outputs": [
    {
     "name": "stdout",
     "output_type": "stream",
     "text": [
      "ItemsView(<gensim.corpora.dictionary.Dictionary object at 0x0000000006445D68>)\n",
      "0 [(0, -1.0986122886681098)]\n"
     ]
    }
   ],
   "source": [
    "import gensim\n",
    "from gensim import corpora\n",
    "import math\n",
    "\n",
    "class BM25 :\n",
    "    def __init__(self, fn_docs, delimiter='|') :\n",
    "        self.dictionary = corpora.Dictionary()\n",
    "        self.DF = {}\n",
    "        self.delimiter = delimiter\n",
    "        self.DocTF = []\n",
    "        self.DocIDF = {}\n",
    "        self.N = 0\n",
    "        self.DocAvgLen = 0\n",
    "        self.fn_docs = fn_docs\n",
    "        self.DocLen = []\n",
    "        self.buildDictionary()\n",
    "        self.TFIDF_Generator()\n",
    "\n",
    "    def buildDictionary(self) :\n",
    "        raw_data = []\n",
    "        for line in open(self.fn_docs) :\n",
    "            raw_data.append(line.strip().split(self.delimiter))\n",
    "        self.dictionary.add_documents(raw_data)\n",
    "\n",
    "    def TFIDF_Generator(self, base=math.e) :\n",
    "        docTotalLen = 0\n",
    "        for line in open(self.fn_docs) :\n",
    "            doc = line.strip().split(self.delimiter)\n",
    "            docTotalLen += len(doc)\n",
    "            self.DocLen.append(len(doc))\n",
    "            #print self.dictionary.doc2bow(doc)\n",
    "            bow = dict([(term, freq*1.0/len(doc)) for term, freq in self.dictionary.doc2bow(doc)])\n",
    "            for term, tf in bow.items() :\n",
    "                if term not in self.DF :\n",
    "                    self.DF[term] = 0\n",
    "                self.DF[term] += 1\n",
    "            self.DocTF.append(bow)\n",
    "            self.N = self.N + 1\n",
    "        for term in self.DF:\n",
    "            self.DocIDF[term] = math.log((self.N - self.DF[term] +0.5) / (self.DF[term] + 0.5), base)\n",
    "        self.DocAvgLen = docTotalLen / self.N\n",
    "\n",
    "    def BM25Score(self, Query=[], k1=1.5, b=0.75) :\n",
    "        query_bow = self.dictionary.doc2bow(Query)\n",
    "        scores = []\n",
    "        for idx, doc in enumerate(self.DocTF) :\n",
    "            commonTerms = set(dict(query_bow).keys()) & set(doc.keys())\n",
    "            tmp_score = []\n",
    "            doc_terms_len = self.DocLen[idx]\n",
    "            for term in commonTerms :\n",
    "                upper = (doc[term] * (k1+1))\n",
    "                below = ((doc[term]) + k1*(1 - b + b*doc_terms_len/self.DocAvgLen))\n",
    "                tmp_score.append(self.DocIDF[term] * upper / below)\n",
    "            scores.append(sum(tmp_score))\n",
    "        return scores\n",
    "\n",
    "    def TFIDF(self) :\n",
    "        tfidf = []\n",
    "        for doc in self.DocTF :\n",
    "            doc_tfidf  = [(term, tf*self.DocIDF[term]) for term, tf in doc.items()]\n",
    "            doc_tfidf.sort()\n",
    "            tfidf.append(doc_tfidf)\n",
    "        return tfidf\n",
    "\n",
    "    def Items(self) :\n",
    "        # Return a list [(term_idx, term_desc),]\n",
    "        items = self.dictionary.items()\n",
    "        sorted(items)\n",
    "        return items\n",
    "\n",
    "if __name__ == '__main__' :\n",
    "    #mycorpus.txt is as following:\n",
    "    '''\n",
    "    Human machine interface for lab abc computer applications\n",
    "    A survey of user opinion of computer system response time\n",
    "    The EPS user interface management system\n",
    "    System and human system engineering testing of EPS\n",
    "    Relation of user perceived response time to error measurement\n",
    "    The generation of random binary unordered trees\n",
    "    The intersection graph of paths in trees\n",
    "    Graph IV Widths of trees and well quasi ordering\n",
    "    Graph minors A survey\n",
    "    '''\n",
    "    fn_docs = 'mycorpus.txt'\n",
    "    bm25 = BM25(fn_docs, delimiter='#/)$')\n",
    "    Query = 'The intersection graph of paths in trees survey Graph'\n",
    "    Query = Query.split()\n",
    "    scores = bm25.BM25Score(Query)\n",
    "    tfidf = bm25.TFIDF()\n",
    "    print(bm25.Items())\n",
    "    for i, tfidfscore in enumerate(tfidf):\n",
    "        print(i, tfidfscore)"
   ]
  },
  {
   "cell_type": "code",
   "execution_count": 12,
   "metadata": {
    "collapsed": false
   },
   "outputs": [
    {
     "name": "stdout",
     "output_type": "stream",
     "text": [
      "['Lorem ipsum dolor sit amet, consectetur adipiscing elit. Praesent mattis lobortis tincidunt. Nunc urna urna, hendrerit vel sapien vitae, porttitor suscipit ipsum. Pellentesque id orci magna. Mauris tempor, felis ut accumsan maximus, lacus felis pharetra nisl, non pharetra velit felis nec metus. Vivamus efficitur sed justo sit amet ultricies. Maecenas laoreet, risus quis sagittis fermentum, quam felis commodo lectus, euismod finibus est lorem id ipsum. Suspendisse est augue, lobortis rhoncus tristique et, laoreet ac diam. Quisque pulvinar risus at rutrum sodales.']\n"
     ]
    }
   ],
   "source": [
    "with open('mycorpus.txt') as fin:\n",
    "    print(fin.readlines())"
   ]
  },
  {
   "cell_type": "code",
   "execution_count": null,
   "metadata": {
    "collapsed": true
   },
   "outputs": [],
   "source": [
    "with open('coursera_you_need.csv') as df_coursera:\n",
    "        "
   ]
  }
 ],
 "metadata": {
  "kernelspec": {
   "display_name": "Python 3",
   "language": "python",
   "name": "python3"
  },
  "language_info": {
   "codemirror_mode": {
    "name": "ipython",
    "version": 3
   },
   "file_extension": ".py",
   "mimetype": "text/x-python",
   "name": "python",
   "nbconvert_exporter": "python",
   "pygments_lexer": "ipython3",
   "version": "3.6.0"
  }
 },
 "nbformat": 4,
 "nbformat_minor": 2
}
